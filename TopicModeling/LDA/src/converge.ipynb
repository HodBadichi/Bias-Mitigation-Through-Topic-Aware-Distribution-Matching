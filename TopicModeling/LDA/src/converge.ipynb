{
 "cells": [
  {
   "cell_type": "code",
   "execution_count": 1,
   "metadata": {
    "collapsed": true
   },
   "outputs": [],
   "source": [
    "import pandas as pd\n",
    "import numpy as np\n",
    "from gensim import models\n",
    "import matplotlib.pyplot as plt\n",
    "import logging\n",
    "import re\n",
    "import os\n",
    "import tqdm\n",
    "from gensim import corpora\n",
    "### choose the callbacks classes to import\n",
    "from gensim.models.callbacks import PerplexityMetric, ConvergenceMetric, CoherenceMetric"
   ]
  },
  {
   "cell_type": "code",
   "execution_count": 2,
   "outputs": [],
   "source": [
    "def extract_lda_params(data_set):\n",
    "    \"\"\"\n",
    "    :param data_set: pandas dataframe object , each entry is a document\n",
    "    :return:\n",
    "          texts_data: list of lists where each inner-list represent a single document : [[dog,cat,mouse],[..],[..]]\n",
    "          corpus:Gensim corpus parameter for creating the LDA model\n",
    "          id2word:Gensim dictionary parameter for creating the LDA model\n",
    "    \"\"\"\n",
    "    texts_data = [str(x).split() for x in np.squeeze(data_set).values.tolist()]\n",
    "    id2word = corpora.Dictionary(texts_data)\n",
    "    # filter words which appear in less than 10 documents , or in more than 50% of the documents\n",
    "    id2word.filter_extremes(no_below=10, no_above=0.5)\n",
    "    corpus = [id2word.doc2bow(text) for text in texts_data]\n",
    "    return texts_data, corpus, id2word\n"
   ],
   "metadata": {
    "collapsed": false,
    "pycharm": {
     "name": "#%%\n"
    }
   }
  },
  {
   "cell_type": "code",
   "execution_count": 3,
   "outputs": [],
   "source": [
    "# The filename is the file that will be created with the log.\n",
    "# If the file already exists, the log will continue rather than being overwritten.\n",
    "from importlib import reload  # Not needed in Python 2\n",
    "import logging\n",
    "reload(logging)\n",
    "logging.basicConfig(filename=r'C:\\Users\\katac\\PycharmProjects\\NLP_project\\TopicModeling\\LDA\\src\\model_callbacks.log',\n",
    "                    format=\"%(asctime)s:%(levelname)s:%(message)s\",\n",
    "                    level=logging.NOTSET)"
   ],
   "metadata": {
    "collapsed": false,
    "pycharm": {
     "name": "#%%\n"
    }
   }
  },
  {
   "cell_type": "code",
   "execution_count": 4,
   "outputs": [],
   "source": [
    "train_data_path = r'C:\\Users\\katac\\PycharmProjects\\NLP_project\\TopicModeling\\LDA\\data\\clean_lda_train.csv'\n",
    "training_set = pd.read_csv(train_data_path, encoding='utf8')\n",
    "documents,corpus,dictionary = extract_lda_params(training_set)"
   ],
   "metadata": {
    "collapsed": false,
    "pycharm": {
     "name": "#%%\n"
    }
   }
  },
  {
   "cell_type": "code",
   "execution_count": 5,
   "outputs": [],
   "source": [
    "# Set up the callbacks loggers\n",
    "coherence_cv_logger = CoherenceMetric(corpus=corpus, logger='shell', coherence = 'c_v', texts = documents)"
   ],
   "metadata": {
    "collapsed": false,
    "pycharm": {
     "name": "#%%\n"
    }
   }
  },
  {
   "cell_type": "code",
   "execution_count": null,
   "outputs": [],
   "source": [
    "# List of the different iterations to try\n",
    "passes = range(1,10,1)\n",
    "\n",
    "# The number of passes to use - could change depending on requirements\n",
    "\n",
    "for i in passes:\n",
    "\n",
    "    # Add text to logger to indicate new model\n",
    "    logging.debug(f'Start of model: {i} passes')\n",
    "\n",
    "    # Create model - note callbacks argument uses list of created callback loggers\n",
    "    model = models.ldamodel.LdaModel(corpus=corpus,\n",
    "             id2word=dictionary,\n",
    "             num_topics=21,\n",
    "             update_every=1,\n",
    "            chunksize=300,\n",
    "             passes=i,\n",
    "             iterations=250,\n",
    "            random_state=42,\n",
    "            callbacks=[coherence_cv_logger])\n",
    "\n",
    "    # Add text to logger to indicate end of this model\n",
    "    logging.debug(f'End of model: {i} passes')\n"
   ],
   "metadata": {
    "collapsed": false,
    "pycharm": {
     "name": "#%%\n",
     "is_executing": true
    }
   }
  },
  {
   "cell_type": "code",
   "execution_count": null,
   "outputs": [],
   "source": [
    "import re\n",
    "import matplotlib.pyplot as plt\n",
    "import csv\n",
    "import math\n",
    "iteration=[]\n",
    "perplexity=[]\n",
    "convergence=[]\n",
    "coherence=[]\n",
    "for line in open(r'C:\\Users\\katac\\PycharmProjects\\NLP_project\\TopicModeling\\LDA\\src\\model_callbacks.log'):\n",
    "    if 'Start' in line:\n",
    "        short=\" \".join(line.split()[:-1])\n",
    "        iteration.append(short.split()[-1])\n",
    "    if 'Coherence' in line :\n",
    "        coherence.append(line.split()[-1])\n",
    "\n",
    "fields = ['iterations','cv_coherence']\n",
    "# rows = zip(iteration,coherence)\n",
    "# with open(\"conv.csv\",\"w\") as f :\n",
    "#     writer = csv.writer(f)\n",
    "#     writer.writerow(fields)\n",
    "#     for row in rows:\n",
    "#         writer.writerow(row)\n",
    "\n",
    "iteration = [ int(i) for i in iteration]\n",
    "coherence = [round(float(i),3) for i in coherence]\n",
    "print(iteration)\n",
    "print(coherence)\n",
    "plt.plot(iteration,coherence)\n",
    "plt.xlabel(\"iterations\")\n",
    "plt.ylabel(\"c_v coherence value\")\n",
    "plt.show()\n",
    "import matplotlib.pyplot as plt\n",
    "import csv\n",
    "import math\n",
    "iteration=[]\n",
    "perplexity=[]\n",
    "convergence=[]\n",
    "coherence=[]\n",
    "for line in open(r'C:\\Users\\katac\\PycharmProjects\\NLP_project\\TopicModeling\\LDA\\src\\model_callbacks.log'):\n",
    "    if 'Start' in line:\n",
    "        short=\" \".join(line.split()[:-1])\n",
    "        iteration.append(short.split()[-1])\n",
    "    if 'Coherence' in line :\n",
    "        coherence.append(line.split()[-1])\n",
    "\n",
    "fields = ['iterations','cv_coherence']\n",
    "# rows = zip(iteration,coherence)\n",
    "# with open(\"conv.csv\",\"w\") as f :\n",
    "#     writer = csv.writer(f)\n",
    "#     writer.writerow(fields)\n",
    "#     for row in rows:\n",
    "#         writer.writerow(row)\n",
    "\n",
    "iteration = [ int(i) for i in iteration]\n",
    "coherence = [round(float(i),3) for i in coherence]\n",
    "print(iteration)\n",
    "print(coherence)\n",
    "plt.plot(iteration,coherence)\n",
    "plt.xlabel(\"iterations\")\n",
    "plt.ylabel(\"c_v coherence value\")\n",
    "plt.show()"
   ],
   "metadata": {
    "collapsed": false,
    "pycharm": {
     "name": "#%%\n"
    }
   }
  },
  {
   "cell_type": "markdown",
   "source": [],
   "metadata": {
    "collapsed": false,
    "pycharm": {
     "name": "#%% md\n"
    }
   }
  }
 ],
 "metadata": {
  "kernelspec": {
   "display_name": "Python 3",
   "language": "python",
   "name": "python3"
  },
  "language_info": {
   "codemirror_mode": {
    "name": "ipython",
    "version": 2
   },
   "file_extension": ".py",
   "mimetype": "text/x-python",
   "name": "python",
   "nbconvert_exporter": "python",
   "pygments_lexer": "ipython2",
   "version": "2.7.6"
  }
 },
 "nbformat": 4,
 "nbformat_minor": 0
}