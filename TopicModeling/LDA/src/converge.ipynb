{
 "cells": [
  {
   "cell_type": "code",
   "execution_count": 16,
   "metadata": {
    "collapsed": true
   },
   "outputs": [],
   "source": [
    "import pandas as pd\n",
    "import numpy as np\n",
    "from gensim import models\n",
    "import matplotlib.pyplot as plt\n",
    "import logging\n",
    "import re\n",
    "import os\n",
    "from gensim import corpora\n",
    "### choose the callbacks classes to import\n",
    "from gensim.models.callbacks import PerplexityMetric, ConvergenceMetric, CoherenceMetric\n",
    "from gensim.models import CoherenceModel"
   ]
  },
  {
   "cell_type": "code",
   "execution_count": 17,
   "outputs": [],
   "source": [
    "def extract_lda_params(data_set):\n",
    "    \"\"\"\n",
    "    :param data_set: pandas dataframe object , each entry is a document\n",
    "    :return:\n",
    "          texts_data: list of lists where each inner-list represent a single document : [[dog,cat,mouse],[..],[..]]\n",
    "          corpus:Gensim corpus parameter for creating the LDA model\n",
    "          id2word:Gensim dictionary parameter for creating the LDA model\n",
    "    \"\"\"\n",
    "    texts_data = [str(x).split() for x in np.squeeze(data_set).values.tolist()]\n",
    "    id2word = corpora.Dictionary(texts_data)\n",
    "    # filter words which appear in less than 10 documents , or in more than 50% of the documents\n",
    "    id2word.filter_extremes(no_below=10, no_above=0.5)\n",
    "    corpus = [id2word.doc2bow(text) for text in texts_data]\n",
    "    return texts_data, corpus, id2word\n"
   ],
   "metadata": {
    "collapsed": false,
    "pycharm": {
     "name": "#%%\n"
    }
   }
  },
  {
   "cell_type": "code",
   "execution_count": 18,
   "outputs": [],
   "source": [
    "# The filename is the file that will be created with the log.\n",
    "# If the file already exists, the log will continue rather than being overwritten.\n",
    "from importlib import reload  # Not needed in Python 2\n",
    "import logging\n",
    "reload(logging)\n",
    "logging.basicConfig(filename=r'C:\\Users\\katac\\PycharmProjects\\NLP_project\\TopicModeling\\LDA\\src\\model_callbacks_passes.log',\n",
    "                    format=\"%(asctime)s:%(levelname)s:%(message)s\",\n",
    "                    level=logging.NOTSET)"
   ],
   "metadata": {
    "collapsed": false,
    "pycharm": {
     "name": "#%%\n"
    }
   }
  },
  {
   "cell_type": "code",
   "execution_count": 19,
   "outputs": [],
   "source": [
    "train_data_path = r'C:\\Users\\katac\\PycharmProjects\\NLP_project\\TopicModeling\\LDA\\data\\hod_clean_lda_train.csv'\n",
    "training_set = pd.read_csv(train_data_path, encoding='utf8')\n",
    "documents,corpus,dictionary = extract_lda_params(training_set)"
   ],
   "metadata": {
    "collapsed": false,
    "pycharm": {
     "name": "#%%\n"
    }
   }
  },
  {
   "cell_type": "code",
   "execution_count": 7,
   "outputs": [],
   "source": [
    "# Set up the callbacks loggers\n",
    "coherence_cv_logger = CoherenceMetric(corpus=corpus, logger='shell', coherence = 'c_v', texts = documents)"
   ],
   "metadata": {
    "collapsed": false,
    "pycharm": {
     "name": "#%%\n"
    }
   }
  },
  {
   "cell_type": "code",
   "execution_count": 20,
   "outputs": [
    {
     "ename": "KeyboardInterrupt",
     "evalue": "",
     "output_type": "error",
     "traceback": [
      "\u001B[1;31m---------------------------------------------------------------------------\u001B[0m",
      "\u001B[1;31mKeyboardInterrupt\u001B[0m                         Traceback (most recent call last)",
      "Input \u001B[1;32mIn [20]\u001B[0m, in \u001B[0;36m<cell line: 6>\u001B[1;34m()\u001B[0m\n\u001B[0;32m      9\u001B[0m logging\u001B[38;5;241m.\u001B[39mdebug(\u001B[38;5;124mf\u001B[39m\u001B[38;5;124m'\u001B[39m\u001B[38;5;124mStart of model: \u001B[39m\u001B[38;5;132;01m{\u001B[39;00mi\u001B[38;5;132;01m}\u001B[39;00m\u001B[38;5;124m passes\u001B[39m\u001B[38;5;124m'\u001B[39m)\n\u001B[0;32m     11\u001B[0m \u001B[38;5;66;03m# Create model - note callbacks argument uses list of created callback loggers\u001B[39;00m\n\u001B[1;32m---> 12\u001B[0m curr_lda_model \u001B[38;5;241m=\u001B[39m \u001B[43mmodels\u001B[49m\u001B[38;5;241;43m.\u001B[39;49m\u001B[43mldamodel\u001B[49m\u001B[38;5;241;43m.\u001B[39;49m\u001B[43mLdaModel\u001B[49m\u001B[43m(\u001B[49m\u001B[43mcorpus\u001B[49m\u001B[38;5;241;43m=\u001B[39;49m\u001B[43mcorpus\u001B[49m\u001B[43m,\u001B[49m\n\u001B[0;32m     13\u001B[0m \u001B[43m         \u001B[49m\u001B[43mid2word\u001B[49m\u001B[38;5;241;43m=\u001B[39;49m\u001B[43mdictionary\u001B[49m\u001B[43m,\u001B[49m\n\u001B[0;32m     14\u001B[0m \u001B[43m         \u001B[49m\u001B[43mnum_topics\u001B[49m\u001B[38;5;241;43m=\u001B[39;49m\u001B[38;5;241;43m16\u001B[39;49m\u001B[43m,\u001B[49m\n\u001B[0;32m     15\u001B[0m \u001B[43m         \u001B[49m\u001B[43mupdate_every\u001B[49m\u001B[38;5;241;43m=\u001B[39;49m\u001B[38;5;241;43m1\u001B[39;49m\u001B[43m,\u001B[49m\n\u001B[0;32m     16\u001B[0m \u001B[43m        \u001B[49m\u001B[43mchunksize\u001B[49m\u001B[38;5;241;43m=\u001B[39;49m\u001B[38;5;241;43m300\u001B[39;49m\u001B[43m,\u001B[49m\n\u001B[0;32m     17\u001B[0m \u001B[43m         \u001B[49m\u001B[43mpasses\u001B[49m\u001B[38;5;241;43m=\u001B[39;49m\u001B[43mi\u001B[49m\u001B[43m,\u001B[49m\n\u001B[0;32m     18\u001B[0m \u001B[43m         \u001B[49m\u001B[43miterations\u001B[49m\u001B[38;5;241;43m=\u001B[39;49m\u001B[38;5;241;43m250\u001B[39;49m\u001B[43m,\u001B[49m\n\u001B[0;32m     19\u001B[0m \u001B[43m        \u001B[49m\u001B[43mrandom_state\u001B[49m\u001B[38;5;241;43m=\u001B[39;49m\u001B[38;5;241;43m42\u001B[39;49m\u001B[43m)\u001B[49m\n\u001B[0;32m     20\u001B[0m coherencemodel \u001B[38;5;241m=\u001B[39m models\u001B[38;5;241m.\u001B[39mCoherenceModel(\n\u001B[0;32m     21\u001B[0m             model\u001B[38;5;241m=\u001B[39mcurr_lda_model, texts\u001B[38;5;241m=\u001B[39mdocuments, corpus\u001B[38;5;241m=\u001B[39mcorpus,\n\u001B[0;32m     22\u001B[0m             dictionary\u001B[38;5;241m=\u001B[39mdictionary,coherence\u001B[38;5;241m=\u001B[39m\u001B[38;5;124m'\u001B[39m\u001B[38;5;124mc_v\u001B[39m\u001B[38;5;124m'\u001B[39m)\n\u001B[0;32m     23\u001B[0m logging\u001B[38;5;241m.\u001B[39mdebug(\u001B[38;5;124mf\u001B[39m\u001B[38;5;124m\"\u001B[39m\u001B[38;5;124mc_v coherence : \u001B[39m\u001B[38;5;132;01m{\u001B[39;00mcoherencemodel\u001B[38;5;241m.\u001B[39mget_coherence()\u001B[38;5;132;01m}\u001B[39;00m\u001B[38;5;124m\"\u001B[39m)\n",
      "File \u001B[1;32m~\\PycharmProjects\\LDAmodeling\\venv\\lib\\site-packages\\gensim\\models\\ldamodel.py:520\u001B[0m, in \u001B[0;36mLdaModel.__init__\u001B[1;34m(self, corpus, num_topics, id2word, distributed, chunksize, passes, update_every, alpha, eta, decay, offset, eval_every, iterations, gamma_threshold, minimum_probability, random_state, ns_conf, minimum_phi_value, per_word_topics, callbacks, dtype)\u001B[0m\n\u001B[0;32m    518\u001B[0m use_numpy \u001B[38;5;241m=\u001B[39m \u001B[38;5;28mself\u001B[39m\u001B[38;5;241m.\u001B[39mdispatcher \u001B[38;5;129;01mis\u001B[39;00m \u001B[38;5;129;01mnot\u001B[39;00m \u001B[38;5;28;01mNone\u001B[39;00m\n\u001B[0;32m    519\u001B[0m start \u001B[38;5;241m=\u001B[39m time\u001B[38;5;241m.\u001B[39mtime()\n\u001B[1;32m--> 520\u001B[0m \u001B[38;5;28;43mself\u001B[39;49m\u001B[38;5;241;43m.\u001B[39;49m\u001B[43mupdate\u001B[49m\u001B[43m(\u001B[49m\u001B[43mcorpus\u001B[49m\u001B[43m,\u001B[49m\u001B[43m \u001B[49m\u001B[43mchunks_as_numpy\u001B[49m\u001B[38;5;241;43m=\u001B[39;49m\u001B[43muse_numpy\u001B[49m\u001B[43m)\u001B[49m\n\u001B[0;32m    521\u001B[0m \u001B[38;5;28mself\u001B[39m\u001B[38;5;241m.\u001B[39madd_lifecycle_event(\n\u001B[0;32m    522\u001B[0m     \u001B[38;5;124m\"\u001B[39m\u001B[38;5;124mcreated\u001B[39m\u001B[38;5;124m\"\u001B[39m,\n\u001B[0;32m    523\u001B[0m     msg\u001B[38;5;241m=\u001B[39m\u001B[38;5;124mf\u001B[39m\u001B[38;5;124m\"\u001B[39m\u001B[38;5;124mtrained \u001B[39m\u001B[38;5;132;01m{\u001B[39;00m\u001B[38;5;28mself\u001B[39m\u001B[38;5;132;01m}\u001B[39;00m\u001B[38;5;124m in \u001B[39m\u001B[38;5;132;01m{\u001B[39;00mtime\u001B[38;5;241m.\u001B[39mtime() \u001B[38;5;241m-\u001B[39m start\u001B[38;5;132;01m:\u001B[39;00m\u001B[38;5;124m.2f\u001B[39m\u001B[38;5;132;01m}\u001B[39;00m\u001B[38;5;124ms\u001B[39m\u001B[38;5;124m\"\u001B[39m,\n\u001B[0;32m    524\u001B[0m )\n",
      "File \u001B[1;32m~\\PycharmProjects\\LDAmodeling\\venv\\lib\\site-packages\\gensim\\models\\ldamodel.py:1005\u001B[0m, in \u001B[0;36mLdaModel.update\u001B[1;34m(self, corpus, chunksize, decay, offset, passes, update_every, eval_every, iterations, gamma_threshold, chunks_as_numpy)\u001B[0m\n\u001B[0;32m   1000\u001B[0m \u001B[38;5;28;01melse\u001B[39;00m:\n\u001B[0;32m   1001\u001B[0m     logger\u001B[38;5;241m.\u001B[39minfo(\n\u001B[0;32m   1002\u001B[0m         \u001B[38;5;124m\"\u001B[39m\u001B[38;5;124mPROGRESS: pass \u001B[39m\u001B[38;5;132;01m%i\u001B[39;00m\u001B[38;5;124m, at document #\u001B[39m\u001B[38;5;132;01m%i\u001B[39;00m\u001B[38;5;124m/\u001B[39m\u001B[38;5;132;01m%i\u001B[39;00m\u001B[38;5;124m\"\u001B[39m,\n\u001B[0;32m   1003\u001B[0m         pass_, chunk_no \u001B[38;5;241m*\u001B[39m chunksize \u001B[38;5;241m+\u001B[39m \u001B[38;5;28mlen\u001B[39m(chunk), lencorpus\n\u001B[0;32m   1004\u001B[0m     )\n\u001B[1;32m-> 1005\u001B[0m     gammat \u001B[38;5;241m=\u001B[39m \u001B[38;5;28;43mself\u001B[39;49m\u001B[38;5;241;43m.\u001B[39;49m\u001B[43mdo_estep\u001B[49m\u001B[43m(\u001B[49m\u001B[43mchunk\u001B[49m\u001B[43m,\u001B[49m\u001B[43m \u001B[49m\u001B[43mother\u001B[49m\u001B[43m)\u001B[49m\n\u001B[0;32m   1007\u001B[0m     \u001B[38;5;28;01mif\u001B[39;00m \u001B[38;5;28mself\u001B[39m\u001B[38;5;241m.\u001B[39moptimize_alpha:\n\u001B[0;32m   1008\u001B[0m         \u001B[38;5;28mself\u001B[39m\u001B[38;5;241m.\u001B[39mupdate_alpha(gammat, rho())\n",
      "File \u001B[1;32m~\\PycharmProjects\\LDAmodeling\\venv\\lib\\site-packages\\gensim\\models\\ldamodel.py:767\u001B[0m, in \u001B[0;36mLdaModel.do_estep\u001B[1;34m(self, chunk, state)\u001B[0m\n\u001B[0;32m    765\u001B[0m \u001B[38;5;28;01mif\u001B[39;00m state \u001B[38;5;129;01mis\u001B[39;00m \u001B[38;5;28;01mNone\u001B[39;00m:\n\u001B[0;32m    766\u001B[0m     state \u001B[38;5;241m=\u001B[39m \u001B[38;5;28mself\u001B[39m\u001B[38;5;241m.\u001B[39mstate\n\u001B[1;32m--> 767\u001B[0m gamma, sstats \u001B[38;5;241m=\u001B[39m \u001B[38;5;28;43mself\u001B[39;49m\u001B[38;5;241;43m.\u001B[39;49m\u001B[43minference\u001B[49m\u001B[43m(\u001B[49m\u001B[43mchunk\u001B[49m\u001B[43m,\u001B[49m\u001B[43m \u001B[49m\u001B[43mcollect_sstats\u001B[49m\u001B[38;5;241;43m=\u001B[39;49m\u001B[38;5;28;43;01mTrue\u001B[39;49;00m\u001B[43m)\u001B[49m\n\u001B[0;32m    768\u001B[0m state\u001B[38;5;241m.\u001B[39msstats \u001B[38;5;241m+\u001B[39m\u001B[38;5;241m=\u001B[39m sstats\n\u001B[0;32m    769\u001B[0m state\u001B[38;5;241m.\u001B[39mnumdocs \u001B[38;5;241m+\u001B[39m\u001B[38;5;241m=\u001B[39m gamma\u001B[38;5;241m.\u001B[39mshape[\u001B[38;5;241m0\u001B[39m]  \u001B[38;5;66;03m# avoids calling len(chunk) on a generator\u001B[39;00m\n",
      "File \u001B[1;32m~\\PycharmProjects\\LDAmodeling\\venv\\lib\\site-packages\\gensim\\models\\ldamodel.py:721\u001B[0m, in \u001B[0;36mLdaModel.inference\u001B[1;34m(self, chunk, collect_sstats)\u001B[0m\n\u001B[0;32m    719\u001B[0m Elogthetad \u001B[38;5;241m=\u001B[39m dirichlet_expectation(gammad)\n\u001B[0;32m    720\u001B[0m expElogthetad \u001B[38;5;241m=\u001B[39m np\u001B[38;5;241m.\u001B[39mexp(Elogthetad)\n\u001B[1;32m--> 721\u001B[0m phinorm \u001B[38;5;241m=\u001B[39m \u001B[43mnp\u001B[49m\u001B[38;5;241;43m.\u001B[39;49m\u001B[43mdot\u001B[49m\u001B[43m(\u001B[49m\u001B[43mexpElogthetad\u001B[49m\u001B[43m,\u001B[49m\u001B[43m \u001B[49m\u001B[43mexpElogbetad\u001B[49m\u001B[43m)\u001B[49m \u001B[38;5;241m+\u001B[39m epsilon\n\u001B[0;32m    722\u001B[0m \u001B[38;5;66;03m# If gamma hasn't changed much, we're done.\u001B[39;00m\n\u001B[0;32m    723\u001B[0m meanchange \u001B[38;5;241m=\u001B[39m mean_absolute_difference(gammad, lastgamma)\n",
      "File \u001B[1;32m<__array_function__ internals>:5\u001B[0m, in \u001B[0;36mdot\u001B[1;34m(*args, **kwargs)\u001B[0m\n",
      "\u001B[1;31mKeyboardInterrupt\u001B[0m: "
     ]
    }
   ],
   "source": [
    "    # List of the different iterations to try\n",
    "    passes = range(60,100,20)\n",
    "\n",
    "    # The number of passes to use - could change depending on requirements\n",
    "\n",
    "    for i in passes:\n",
    "\n",
    "        # Add text to logger to indicate new model\n",
    "        logging.debug(f'Start of model: {i} passes')\n",
    "\n",
    "        # Create model - note callbacks argument uses list of created callback loggers\n",
    "        curr_lda_model = models.ldamodel.LdaModel(corpus=corpus,\n",
    "                 id2word=dictionary,\n",
    "                 num_topics=16,\n",
    "                 update_every=1,\n",
    "                chunksize=300,\n",
    "                 passes=i,\n",
    "                 iterations=250,\n",
    "                random_state=42)\n",
    "        coherencemodel = models.CoherenceModel(\n",
    "                    model=curr_lda_model, texts=documents, corpus=corpus,\n",
    "                    dictionary=dictionary,coherence='c_v')\n",
    "        logging.debug(f\"c_v coherence : {coherencemodel.get_coherence()}\")\n",
    "        # Add text to logger to indicate end of this model\n",
    "        logging.debug(f'End of model: {i} passes')\n"
   ],
   "metadata": {
    "collapsed": false,
    "pycharm": {
     "name": "#%%\n"
    }
   }
  },
  {
   "cell_type": "code",
   "execution_count": null,
   "outputs": [],
   "source": [],
   "metadata": {
    "collapsed": false,
    "pycharm": {
     "name": "#%%\n"
    }
   }
  },
  {
   "cell_type": "code",
   "execution_count": 2,
   "outputs": [
    {
     "name": "stdout",
     "output_type": "stream",
     "text": [
      "[2, 3, 4, 5, 6, 7, 8, 9, 10, 11, 12, 15, 25, 35, 45, 60, 80]\n",
      "[0.484, 0.492, 0.49, 0.487, 0.489, 0.49, 0.491, 0.492, 0.492, 0.492, 0.493, 0.493, 0.49, 0.491, 0.491, 0.491, 0.491]\n"
     ]
    },
    {
     "data": {
      "text/plain": "<Figure size 432x288 with 1 Axes>",
      "image/png": "[encoded data removed]"
     },
     "metadata": {
      "needs_background": "light"
     },
     "output_type": "display_data"
    }
   ],
   "source": [
    "import matplotlib.pyplot as plt\n",
    "iteration=[]\n",
    "perplexity=[]\n",
    "convergence=[]\n",
    "coherence=[]\n",
    "for line in open(r'C:\\Users\\katac\\PycharmProjects\\NLP_project\\TopicModeling\\LDA\\src\\model_callbacks_passes.log'):\n",
    "    if 'Start' in line:\n",
    "        short=\" \".join(line.split()[:-1])\n",
    "        iteration.append(short.split()[-1])\n",
    "    if 'coherence' in line :\n",
    "        coherence.append(line.split()[-1])\n",
    "\n",
    "fields = ['iterations','cv_coherence']\n",
    "# rows = zip(iteration,coherence)\n",
    "# with open(\"conv.csv\",\"w\") as f :\n",
    "#     writer = csv.writer(f)\n",
    "#     writer.writerow(fields)\n",
    "#     for row in rows:\n",
    "#         writer.writerow(row)\n",
    "\n",
    "iteration = [ int(i) for i in iteration]\n",
    "coherence = [round(float(i),3) for i in coherence]\n",
    "print(iteration)\n",
    "print(coherence)\n",
    "plt.plot(iteration,coherence)\n",
    "plt.xlabel(\"iterations\")\n",
    "plt.ylabel(\"c_v coherence value\")\n",
    "plt.show()"
   ],
   "metadata": {
    "collapsed": false,
    "pycharm": {
     "name": "#%%\n"
    }
   }
  },
  {
   "cell_type": "markdown",
   "source": [],
   "metadata": {
    "collapsed": false,
    "pycharm": {
     "name": "#%% md\n"
    }
   }
  }
 ],
 "metadata": {
  "kernelspec": {
   "display_name": "Python 3",
   "language": "python",
   "name": "python3"
  },
  "language_info": {
   "codemirror_mode": {
    "name": "ipython",
    "version": 2
   },
   "file_extension": ".py",
   "mimetype": "text/x-python",
   "name": "python",
   "nbconvert_exporter": "python",
   "pygments_lexer": "ipython2",
   "version": "2.7.6"
  }
 },
 "nbformat": 4,
 "nbformat_minor": 0
}