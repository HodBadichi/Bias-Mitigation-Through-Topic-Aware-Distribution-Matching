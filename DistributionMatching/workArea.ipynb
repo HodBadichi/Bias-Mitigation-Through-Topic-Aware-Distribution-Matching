{
 "cells": [
  {
   "cell_type": "code",
   "execution_count": 21,
   "outputs": [],
   "source": [
    "import os\n",
    "import pandas as pd\n",
    "import numpy as np\n",
    "import seaborn as sns\n",
    "from matplotlib.backends.backend_pdf import PdfPages\n",
    "import matplotlib.pyplot as plt\n",
    "import numpy as np\n",
    "from bertopic import BERTopic\n",
    "data_path = rf'C:\\Users\\{os.getlogin()}\\PycharmProjects\\NLP_project\\data\\abstract_2005_2020_gender_and_topic.csv'\n",
    "documents_df = pd.read_csv(data_path, encoding='utf8')"
   ],
   "metadata": {
    "collapsed": false,
    "pycharm": {
     "name": "#%%\n"
    }
   }
  },
  {
   "cell_type": "code",
   "execution_count": 39,
   "outputs": [],
   "source": [
    "import hdbscan\n",
    "\n",
    "model_path = r\"C:\\Users\\morfi\\PycharmProjects\\NLP_project\\DistributionMatching\\bertTopic_train(81876)_n_gram_1_1_min_topic_size_50_with_probs\"\n",
    "loaded_model = BERTopic.load(model_path)\n",
    "probs = hdbscan.all_points_membership_vectors(loaded_model.hdbscan_model)\n",
    "# probs = loaded_model._map_probabilities(probs, original_topics=True)"
   ],
   "metadata": {
    "collapsed": false,
    "pycharm": {
     "name": "#%%\n"
    }
   }
  },
  {
   "cell_type": "code",
   "execution_count": 42,
   "outputs": [
    {
     "name": "stdout",
     "output_type": "stream",
     "text": [
      "0.6688099990234674\n",
      "0.6688099990234672\n"
     ]
    }
   ],
   "source": [
    "probs1 = loaded_model._map_probabilities(probs, original_topics=True)\n",
    "print(sum(probs[6]))\n",
    "print(sum(probs1[6]))"
   ],
   "metadata": {
    "collapsed": false,
    "pycharm": {
     "name": "#%%\n"
    }
   }
  },
  {
   "cell_type": "code",
   "execution_count": 26,
   "outputs": [
    {
     "name": "stdout",
     "output_type": "stream",
     "text": [
      "1.0\n"
     ]
    }
   ],
   "source": [
    "print(probs[0])"
   ],
   "metadata": {
    "collapsed": false,
    "pycharm": {
     "name": "#%%\n"
    }
   }
  },
  {
   "cell_type": "code",
   "execution_count": null,
   "outputs": [],
   "source": [
    "probs"
   ],
   "metadata": {
    "collapsed": false,
    "pycharm": {
     "name": "#%%\n"
    }
   }
  },
  {
   "cell_type": "code",
   "execution_count": 15,
   "outputs": [],
   "source": [
    "# check similarity 35 and 36\n",
    "import json\n",
    "prob_string1 = documents_df.iloc[3000][\"probs\"]\n",
    "prob_string2 = documents_df.iloc[50][\"probs\"]\n",
    "\n",
    "prob1 = json.loads(prob_string1)\n",
    "prob2 = json.loads(prob_string2)"
   ],
   "metadata": {
    "collapsed": false,
    "pycharm": {
     "name": "#%%\n"
    }
   }
  },
  {
   "cell_type": "code",
   "execution_count": 19,
   "outputs": [
    {
     "name": "stdout",
     "output_type": "stream",
     "text": [
      "273\n"
     ]
    }
   ],
   "source": [
    "print(len(prob_string1.split(',')))"
   ],
   "metadata": {
    "collapsed": false,
    "pycharm": {
     "name": "#%%\n"
    }
   }
  },
  {
   "cell_type": "code",
   "execution_count": 17,
   "outputs": [
    {
     "name": "stdout",
     "output_type": "stream",
     "text": [
      "273\n"
     ]
    }
   ],
   "source": [
    "print(len(prob2))"
   ],
   "metadata": {
    "collapsed": false,
    "pycharm": {
     "name": "#%%\n"
    }
   }
  },
  {
   "cell_type": "code",
   "execution_count": 5,
   "outputs": [
    {
     "name": "stdout",
     "output_type": "stream",
     "text": [
      "18.48375872941362\n",
      "40.744188561043615\n",
      "15.995623912877557\n",
      "16.550915524908255\n"
     ]
    }
   ],
   "source": [
    "from scipy.stats import entropy\n",
    "from scipy.special import rel_entr, kl_div\n",
    "\n",
    "cross_entropy_loss = -np.sum(prob1 * np.log(prob2))\n",
    "print(cross_entropy_loss)\n",
    "print(entropy(prob1, prob2))\n",
    "print(sum(rel_entr(prob1, prob2)))\n",
    "print(sum(kl_div(prob1, prob2)))"
   ],
   "metadata": {
    "collapsed": false,
    "pycharm": {
     "name": "#%%\n"
    }
   }
  },
  {
   "cell_type": "code",
   "execution_count": null,
   "outputs": [],
   "source": [
    "from bertopic import BERTopic\n",
    "loaded_model = BERTopic.load(rf\"bertTopic_train(81876)_n_gram_1_1_min_topic_size_50_with_probs\")\n",
    "topics_to_words = loaded_model.get_topics()\n",
    "info_df = loaded_model.get_topic_info()\n",
    "info_df"
   ],
   "metadata": {
    "collapsed": false,
    "pycharm": {
     "name": "#%%\n"
    }
   }
  },
  {
   "cell_type": "code",
   "execution_count": 188,
   "outputs": [
    {
     "data": {
      "text/plain": "Batches:   0%|          | 0/681 [00:00<?, ?it/s]",
      "application/vnd.jupyter.widget-view+json": {
       "version_major": 2,
       "version_minor": 0,
       "model_id": "8a8580a9aa084ec7950e42d3647f8c8c"
      }
     },
     "metadata": {},
     "output_type": "display_data"
    }
   ],
   "source": [
    "docs = documents_df.clean_title_and_abstract.to_list()\n",
    "topics, probs = loaded_model.transform(docs)"
   ],
   "metadata": {
    "collapsed": false,
    "pycharm": {
     "name": "#%%\n"
    }
   }
  },
  {
   "cell_type": "code",
   "execution_count": 230,
   "outputs": [],
   "source": [
    "documents_df.to_csv(rf'C:\\Users\\{os.getlogin()}\\PycharmProjects\\NLP_project\\data\\abstract_2005_2020_gender_and_topic.csv',\n",
    "                      index=False)"
   ],
   "metadata": {
    "collapsed": false,
    "pycharm": {
     "name": "#%%\n"
    }
   }
  }
 ],
 "metadata": {
  "kernelspec": {
   "display_name": "Python 3",
   "language": "python",
   "name": "python3"
  },
  "language_info": {
   "codemirror_mode": {
    "name": "ipython",
    "version": 2
   },
   "file_extension": ".py",
   "mimetype": "text/x-python",
   "name": "python",
   "nbconvert_exporter": "python",
   "pygments_lexer": "ipython2",
   "version": "2.7.6"
  }
 },
 "nbformat": 4,
 "nbformat_minor": 0
}