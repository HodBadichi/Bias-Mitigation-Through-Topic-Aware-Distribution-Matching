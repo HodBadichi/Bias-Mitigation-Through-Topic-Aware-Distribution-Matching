{
 "cells": [
  {
   "cell_type": "code",
   "execution_count": 2,
   "outputs": [],
   "source": [
    "import os\n",
    "import pandas as pd\n",
    "import numpy as np\n",
    "import seaborn as sns\n",
    "from matplotlib.backends.backend_pdf import PdfPages\n",
    "import matplotlib.pyplot as plt\n",
    "import numpy as np\n",
    "from bertopic import BERTopic\n",
    "data_path = rf'C:\\Users\\{os.getlogin()}\\PycharmProjects\\NLP_project\\data\\abstract_2005_2020_gender_and_topic.csv'\n",
    "documents_df = pd.read_csv(data_path, encoding='utf8')"
   ],
   "metadata": {
    "collapsed": false,
    "pycharm": {
     "name": "#%%\n"
    }
   }
  },
  {
   "cell_type": "code",
   "execution_count": 4,
   "outputs": [
    {
     "data": {
      "text/plain": "PMID                                                                 18827122\ntitle                       Misoprostol vaginal insert compared with dinop...\nabstract                    To compare the 50-microgram (misoprostol vagin...\ndate                                                                10/2/2008\nncts                                                              NCT00308711\nyear                                                                     2008\ntitle_and_abstract          Misoprostol vaginal insert compared with dinop...\nfemale                                                                 1308.0\nmale                                                                      0.0\nfemale_rate                                                               1.0\nclean_title_and_abstract    Misoprostol vaginal insert compared with dinop...\nmajor_topic                                                                84\ntopic_with_oulier_topic                                                    84\nprobs                       [0.000173838171017234, 0.0003402212132994091, ...\nName: 282, dtype: object"
     },
     "execution_count": 4,
     "metadata": {},
     "output_type": "execute_result"
    }
   ],
   "source": [
    "documents_df.iloc[282]"
   ],
   "metadata": {
    "collapsed": false,
    "pycharm": {
     "name": "#%%\n"
    }
   }
  },
  {
   "cell_type": "code",
   "execution_count": 62,
   "outputs": [],
   "source": [
    "df1 = documents_df.groupby('major_topic')['female_rate'].apply(list).reset_index(name='female_rate')"
   ],
   "metadata": {
    "collapsed": false,
    "pycharm": {
     "name": "#%%\n"
    }
   }
  },
  {
   "cell_type": "code",
   "execution_count": 80,
   "outputs": [
    {
     "data": {
      "text/plain": "467"
     },
     "execution_count": 80,
     "metadata": {},
     "output_type": "execute_result"
    }
   ],
   "source": [
    "len(df1.iloc[0][\"female_rate\"])"
   ],
   "metadata": {
    "collapsed": false,
    "pycharm": {
     "name": "#%%\n"
    }
   }
  },
  {
   "cell_type": "code",
   "execution_count": 78,
   "outputs": [
    {
     "data": {
      "text/plain": "<AxesSubplot:xlabel='female_rate', ylabel='Count'>"
     },
     "execution_count": 78,
     "metadata": {},
     "output_type": "execute_result"
    },
    {
     "data": {
      "text/plain": "<Figure size 432x288 with 1 Axes>",
      "image/png": "[encoded data removed]"
     },
     "metadata": {
      "needs_background": "light"
     },
     "output_type": "display_data"
    }
   ],
   "source": [
    "sns.histplot(data=df1.iloc[255], x=\"female_rate\", kde=True)"
   ],
   "metadata": {
    "collapsed": false,
    "pycharm": {
     "name": "#%%\n"
    }
   }
  },
  {
   "cell_type": "code",
   "execution_count": 5,
   "outputs": [],
   "source": [
    "import hdbscan\n",
    "\n",
    "model_path = r\"C:\\Users\\morfi\\PycharmProjects\\LDAmodeling\\results\\bert\\bertTopic_train(81876)_n_gram_1_1_min_topic_size_50_with_probs\"\n",
    "loaded_model = BERTopic.load(model_path)\n",
    "probs = hdbscan.all_points_membership_vectors(loaded_model.hdbscan_model)\n",
    "probs = loaded_model._map_probabilities(probs, original_topics=True)"
   ],
   "metadata": {
    "collapsed": false,
    "pycharm": {
     "name": "#%%\n"
    }
   }
  },
  {
   "cell_type": "code",
   "execution_count": 119,
   "outputs": [],
   "source": [
    "# check similarity 35 and 36\n",
    "import json\n",
    "import torch\n",
    "prob_string1 = documents_df.iloc[1][\"probs\"]\n",
    "prob_string2 = documents_df.iloc[36][\"probs\"]\n",
    "\n",
    "prob1 = json.loads(prob_string1)\n",
    "prob2 = json.loads(prob_string2)"
   ],
   "metadata": {
    "collapsed": false,
    "pycharm": {
     "name": "#%%\n"
    }
   }
  },
  {
   "cell_type": "code",
   "execution_count": 110,
   "outputs": [
    {
     "data": {
      "text/plain": "torch.Tensor"
     },
     "execution_count": 110,
     "metadata": {},
     "output_type": "execute_result"
    }
   ],
   "source": [
    "type(prob1)"
   ],
   "metadata": {
    "collapsed": false,
    "pycharm": {
     "name": "#%%\n"
    }
   }
  },
  {
   "cell_type": "code",
   "execution_count": 120,
   "outputs": [],
   "source": [
    "prob1 = torch.as_tensor(prob1)\n",
    "prob1 =prob1 + 1e-21\n",
    "prob2 = torch.as_tensor(prob2)\n",
    "prob2 =prob2 + 1e-21"
   ],
   "metadata": {
    "collapsed": false,
    "pycharm": {
     "name": "#%%\n"
    }
   }
  },
  {
   "cell_type": "code",
   "execution_count": 125,
   "outputs": [
    {
     "data": {
      "text/plain": "25.65699005126953"
     },
     "execution_count": 125,
     "metadata": {},
     "output_type": "execute_result"
    }
   ],
   "source": [
    "(torch.sum(- prob1 * torch.log(prob2)) + torch.sum(- prob2 * torch.log(prob1))).item()"
   ],
   "metadata": {
    "collapsed": false,
    "pycharm": {
     "name": "#%%\n"
    }
   }
  },
  {
   "cell_type": "code",
   "execution_count": 114,
   "outputs": [
    {
     "name": "stdout",
     "output_type": "stream",
     "text": [
      "0.04454468738140084\n",
      "0.7685650554771403\n"
     ]
    }
   ],
   "source": [
    "from scipy.stats import entropy\n",
    "from scipy.special import rel_entr, kl_div\n",
    "\n",
    "print(entropy(prob1, prob2))\n",
    "print(entropy(prob2, prob1))"
   ],
   "metadata": {
    "collapsed": false,
    "pycharm": {
     "name": "#%%\n"
    }
   }
  },
  {
   "cell_type": "code",
   "execution_count": 2,
   "outputs": [
    {
     "name": "stdout",
     "output_type": "stream",
     "text": [
      "310 is :54\n"
     ]
    },
    {
     "data": {
      "text/plain": "    Topic  Count                                               Name\n0      -1  24478                                -1_the_and_with_for\n1       0   6278                     0_cancer_survival_patient_with\n2       1   2991                      1_hiv_and_hiv1_antiretroviral\n3       2   2779         2_depression_disorder_treatment_depressive\n4       3   2695                   3_patient_lymphoma_response_cell\n5       4   2378               4_copd_asthma_exacerbation_pulmonary\n6       5   2333            5_intervention_weight_physical_activity\n7       6   2215                          6_diet_intake_fat_insulin\n8       7   2042                    7_insulin_diabetes_glucose_type\n9       8   1847                8_week_arthritis_rheumatoid_patient\n10      9   1552           9_vaccine_influenza_vaccination_antibody\n11     10   1545                      10_eye_visual_retinal_macular\n12     11   1330                     11_iron_infant_pregnancy_woman\n13     12   1313                    12_antibiotic_infection_the_for\n14     13   1124                  13_woman_testosterone_embryo_pcos\n15     14   1073                    14_knee_osteoarthritis_pain_the\n16     15   1067              15_pain_block_analgesia_postoperative\n17     16   1020                     16_stroke_ischemic_outcome_the\n18     17    901                17_hcv_hepatitis_genotype_ribavirin\n19     18    876            18_motor_stroke_training_rehabilitation\n20     19    863             19_statin_cholesterol_ldlc_lipoprotein\n21     20    827         20_colonoscopy_screening_colorectal_cancer\n22     21    825                     21_alcohol_use_opioid_drinking\n23     22    821              22_coronary_myocardial_infarction_pci\n24     23    818            23_warfarin_bleeding_rivaroxaban_venous\n25     24    793               24_cancer_intervention_care_physical\n26     25    786       25_ventilation_intubation_respiratory_airway\n27     26    772          26_malaria_falciparum_parasite_plasmodium\n28     27    763                    27_pain_back_chronic_disability\n29     28    762                  28_woman_delivery_pregnancy_birth\n30     29    742             29_smoking_cessation_smoker_abstinence\n31     30    691                 30_fluid_sepsis_transfusion_septic\n32     31    671            31_cognitive_alzheimers_dementia_memory\n33     32    632               32_stent_coronary_lesion_drugeluting\n34     33    603                   33_caries_periodontal_dental_the\n35     34    581         34_prostate_cancer_psa_castrationresistant\n36     35    569             35_incontinence_urinary_pelvic_bladder\n37     36    566                 36_heart_failure_ejection_fraction\n38     37    547       37_clopidogrel_ticagrelor_platelet_prasugrel\n39     38    539                            38_sleep_osa_cpap_apnea\n40     39    529           39_vitamin_supplementation_calcium_serum\n41     40    526        40_pacing_ventricular_icd_resynchronization\n42     41    523                  41_microbiota_probiotic_gut_fecal\n43     42    481                42_reflux_esomeprazole_pylorus_gerd\n44     43    478  43_sclerosis_multiple_relapsingremitting_inter...\n45     44    460                 44_valve_aortic_transcatheter_tavr\n46     45    402                         45_sleep_insomnia_and_cbti\n47     46    379          46_hypertension_pressure_amlodipine_blood\n48     47    368                           47_kidney_renal_ckd_egfr\n49     48    357             48_remission_crohns_ulcerative_colitis\n50     49    356  49_adhd_attentiondeficithyperactivity_child_di...\n51     50    355  50_transplant_rejection_tacrolimus_transplanta...\n52     51    330                  51_care_implementation_health_the\n53     52    324                      52_hpv_vaccine_cervical_woman",
      "text/html": "<div>\n<style scoped>\n    .dataframe tbody tr th:only-of-type {\n        vertical-align: middle;\n    }\n\n    .dataframe tbody tr th {\n        vertical-align: top;\n    }\n\n    .dataframe thead th {\n        text-align: right;\n    }\n</style>\n<table border=\"1\" class=\"dataframe\">\n  <thead>\n    <tr style=\"text-align: right;\">\n      <th></th>\n      <th>Topic</th>\n      <th>Count</th>\n      <th>Name</th>\n    </tr>\n  </thead>\n  <tbody>\n    <tr>\n      <th>0</th>\n      <td>-1</td>\n      <td>24478</td>\n      <td>-1_the_and_with_for</td>\n    </tr>\n    <tr>\n      <th>1</th>\n      <td>0</td>\n      <td>6278</td>\n      <td>0_cancer_survival_patient_with</td>\n    </tr>\n    <tr>\n      <th>2</th>\n      <td>1</td>\n      <td>2991</td>\n      <td>1_hiv_and_hiv1_antiretroviral</td>\n    </tr>\n    <tr>\n      <th>3</th>\n      <td>2</td>\n      <td>2779</td>\n      <td>2_depression_disorder_treatment_depressive</td>\n    </tr>\n    <tr>\n      <th>4</th>\n      <td>3</td>\n      <td>2695</td>\n      <td>3_patient_lymphoma_response_cell</td>\n    </tr>\n    <tr>\n      <th>5</th>\n      <td>4</td>\n      <td>2378</td>\n      <td>4_copd_asthma_exacerbation_pulmonary</td>\n    </tr>\n    <tr>\n      <th>6</th>\n      <td>5</td>\n      <td>2333</td>\n      <td>5_intervention_weight_physical_activity</td>\n    </tr>\n    <tr>\n      <th>7</th>\n      <td>6</td>\n      <td>2215</td>\n      <td>6_diet_intake_fat_insulin</td>\n    </tr>\n    <tr>\n      <th>8</th>\n      <td>7</td>\n      <td>2042</td>\n      <td>7_insulin_diabetes_glucose_type</td>\n    </tr>\n    <tr>\n      <th>9</th>\n      <td>8</td>\n      <td>1847</td>\n      <td>8_week_arthritis_rheumatoid_patient</td>\n    </tr>\n    <tr>\n      <th>10</th>\n      <td>9</td>\n      <td>1552</td>\n      <td>9_vaccine_influenza_vaccination_antibody</td>\n    </tr>\n    <tr>\n      <th>11</th>\n      <td>10</td>\n      <td>1545</td>\n      <td>10_eye_visual_retinal_macular</td>\n    </tr>\n    <tr>\n      <th>12</th>\n      <td>11</td>\n      <td>1330</td>\n      <td>11_iron_infant_pregnancy_woman</td>\n    </tr>\n    <tr>\n      <th>13</th>\n      <td>12</td>\n      <td>1313</td>\n      <td>12_antibiotic_infection_the_for</td>\n    </tr>\n    <tr>\n      <th>14</th>\n      <td>13</td>\n      <td>1124</td>\n      <td>13_woman_testosterone_embryo_pcos</td>\n    </tr>\n    <tr>\n      <th>15</th>\n      <td>14</td>\n      <td>1073</td>\n      <td>14_knee_osteoarthritis_pain_the</td>\n    </tr>\n    <tr>\n      <th>16</th>\n      <td>15</td>\n      <td>1067</td>\n      <td>15_pain_block_analgesia_postoperative</td>\n    </tr>\n    <tr>\n      <th>17</th>\n      <td>16</td>\n      <td>1020</td>\n      <td>16_stroke_ischemic_outcome_the</td>\n    </tr>\n    <tr>\n      <th>18</th>\n      <td>17</td>\n      <td>901</td>\n      <td>17_hcv_hepatitis_genotype_ribavirin</td>\n    </tr>\n    <tr>\n      <th>19</th>\n      <td>18</td>\n      <td>876</td>\n      <td>18_motor_stroke_training_rehabilitation</td>\n    </tr>\n    <tr>\n      <th>20</th>\n      <td>19</td>\n      <td>863</td>\n      <td>19_statin_cholesterol_ldlc_lipoprotein</td>\n    </tr>\n    <tr>\n      <th>21</th>\n      <td>20</td>\n      <td>827</td>\n      <td>20_colonoscopy_screening_colorectal_cancer</td>\n    </tr>\n    <tr>\n      <th>22</th>\n      <td>21</td>\n      <td>825</td>\n      <td>21_alcohol_use_opioid_drinking</td>\n    </tr>\n    <tr>\n      <th>23</th>\n      <td>22</td>\n      <td>821</td>\n      <td>22_coronary_myocardial_infarction_pci</td>\n    </tr>\n    <tr>\n      <th>24</th>\n      <td>23</td>\n      <td>818</td>\n      <td>23_warfarin_bleeding_rivaroxaban_venous</td>\n    </tr>\n    <tr>\n      <th>25</th>\n      <td>24</td>\n      <td>793</td>\n      <td>24_cancer_intervention_care_physical</td>\n    </tr>\n    <tr>\n      <th>26</th>\n      <td>25</td>\n      <td>786</td>\n      <td>25_ventilation_intubation_respiratory_airway</td>\n    </tr>\n    <tr>\n      <th>27</th>\n      <td>26</td>\n      <td>772</td>\n      <td>26_malaria_falciparum_parasite_plasmodium</td>\n    </tr>\n    <tr>\n      <th>28</th>\n      <td>27</td>\n      <td>763</td>\n      <td>27_pain_back_chronic_disability</td>\n    </tr>\n    <tr>\n      <th>29</th>\n      <td>28</td>\n      <td>762</td>\n      <td>28_woman_delivery_pregnancy_birth</td>\n    </tr>\n    <tr>\n      <th>30</th>\n      <td>29</td>\n      <td>742</td>\n      <td>29_smoking_cessation_smoker_abstinence</td>\n    </tr>\n    <tr>\n      <th>31</th>\n      <td>30</td>\n      <td>691</td>\n      <td>30_fluid_sepsis_transfusion_septic</td>\n    </tr>\n    <tr>\n      <th>32</th>\n      <td>31</td>\n      <td>671</td>\n      <td>31_cognitive_alzheimers_dementia_memory</td>\n    </tr>\n    <tr>\n      <th>33</th>\n      <td>32</td>\n      <td>632</td>\n      <td>32_stent_coronary_lesion_drugeluting</td>\n    </tr>\n    <tr>\n      <th>34</th>\n      <td>33</td>\n      <td>603</td>\n      <td>33_caries_periodontal_dental_the</td>\n    </tr>\n    <tr>\n      <th>35</th>\n      <td>34</td>\n      <td>581</td>\n      <td>34_prostate_cancer_psa_castrationresistant</td>\n    </tr>\n    <tr>\n      <th>36</th>\n      <td>35</td>\n      <td>569</td>\n      <td>35_incontinence_urinary_pelvic_bladder</td>\n    </tr>\n    <tr>\n      <th>37</th>\n      <td>36</td>\n      <td>566</td>\n      <td>36_heart_failure_ejection_fraction</td>\n    </tr>\n    <tr>\n      <th>38</th>\n      <td>37</td>\n      <td>547</td>\n      <td>37_clopidogrel_ticagrelor_platelet_prasugrel</td>\n    </tr>\n    <tr>\n      <th>39</th>\n      <td>38</td>\n      <td>539</td>\n      <td>38_sleep_osa_cpap_apnea</td>\n    </tr>\n    <tr>\n      <th>40</th>\n      <td>39</td>\n      <td>529</td>\n      <td>39_vitamin_supplementation_calcium_serum</td>\n    </tr>\n    <tr>\n      <th>41</th>\n      <td>40</td>\n      <td>526</td>\n      <td>40_pacing_ventricular_icd_resynchronization</td>\n    </tr>\n    <tr>\n      <th>42</th>\n      <td>41</td>\n      <td>523</td>\n      <td>41_microbiota_probiotic_gut_fecal</td>\n    </tr>\n    <tr>\n      <th>43</th>\n      <td>42</td>\n      <td>481</td>\n      <td>42_reflux_esomeprazole_pylorus_gerd</td>\n    </tr>\n    <tr>\n      <th>44</th>\n      <td>43</td>\n      <td>478</td>\n      <td>43_sclerosis_multiple_relapsingremitting_inter...</td>\n    </tr>\n    <tr>\n      <th>45</th>\n      <td>44</td>\n      <td>460</td>\n      <td>44_valve_aortic_transcatheter_tavr</td>\n    </tr>\n    <tr>\n      <th>46</th>\n      <td>45</td>\n      <td>402</td>\n      <td>45_sleep_insomnia_and_cbti</td>\n    </tr>\n    <tr>\n      <th>47</th>\n      <td>46</td>\n      <td>379</td>\n      <td>46_hypertension_pressure_amlodipine_blood</td>\n    </tr>\n    <tr>\n      <th>48</th>\n      <td>47</td>\n      <td>368</td>\n      <td>47_kidney_renal_ckd_egfr</td>\n    </tr>\n    <tr>\n      <th>49</th>\n      <td>48</td>\n      <td>357</td>\n      <td>48_remission_crohns_ulcerative_colitis</td>\n    </tr>\n    <tr>\n      <th>50</th>\n      <td>49</td>\n      <td>356</td>\n      <td>49_adhd_attentiondeficithyperactivity_child_di...</td>\n    </tr>\n    <tr>\n      <th>51</th>\n      <td>50</td>\n      <td>355</td>\n      <td>50_transplant_rejection_tacrolimus_transplanta...</td>\n    </tr>\n    <tr>\n      <th>52</th>\n      <td>51</td>\n      <td>330</td>\n      <td>51_care_implementation_health_the</td>\n    </tr>\n    <tr>\n      <th>53</th>\n      <td>52</td>\n      <td>324</td>\n      <td>52_hpv_vaccine_cervical_woman</td>\n    </tr>\n  </tbody>\n</table>\n</div>"
     },
     "execution_count": 2,
     "metadata": {},
     "output_type": "execute_result"
    }
   ],
   "source": [
    "from bertopic import BERTopic\n",
    "loaded_model = BERTopic.load(rf\"C:\\Users\\morfi\\PycharmProjects\\NLP_project\\TopicModeling\\Bert\\src\\bertTopic_train(81876)_n_gram_1_1_nr_topics_310\")\n",
    "print(f\"310 is :{len(loaded_model.get_topics())}\")\n",
    "info_df = loaded_model.get_topic_info()\n",
    "info_df"
   ],
   "metadata": {
    "collapsed": false,
    "pycharm": {
     "name": "#%%\n"
    }
   }
  },
  {
   "cell_type": "code",
   "execution_count": 188,
   "outputs": [
    {
     "data": {
      "text/plain": "Batches:   0%|          | 0/681 [00:00<?, ?it/s]",
      "application/vnd.jupyter.widget-view+json": {
       "version_major": 2,
       "version_minor": 0,
       "model_id": "8a8580a9aa084ec7950e42d3647f8c8c"
      }
     },
     "metadata": {},
     "output_type": "display_data"
    }
   ],
   "source": [
    "docs = documents_df.clean_title_and_abstract.to_list()\n",
    "topics, probs = loaded_model.transform(docs)"
   ],
   "metadata": {
    "collapsed": false,
    "pycharm": {
     "name": "#%%\n"
    }
   }
  },
  {
   "cell_type": "code",
   "execution_count": 230,
   "outputs": [],
   "source": [
    "documents_df.to_csv(rf'C:\\Users\\{os.getlogin()}\\PycharmProjects\\NLP_project\\data\\abstract_2005_2020_gender_and_topic.csv',\n",
    "                      index=False)"
   ],
   "metadata": {
    "collapsed": false,
    "pycharm": {
     "name": "#%%\n"
    }
   }
  }
 ],
 "metadata": {
  "kernelspec": {
   "display_name": "Python 3",
   "language": "python",
   "name": "python3"
  },
  "language_info": {
   "codemirror_mode": {
    "name": "ipython",
    "version": 2
   },
   "file_extension": ".py",
   "mimetype": "text/x-python",
   "name": "python",
   "nbconvert_exporter": "python",
   "pygments_lexer": "ipython2",
   "version": "2.7.6"
  }
 },
 "nbformat": 4,
 "nbformat_minor": 0
}