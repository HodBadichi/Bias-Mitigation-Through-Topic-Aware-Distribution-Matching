{
 "cells": [
  {
   "cell_type": "code",
   "execution_count": 227,
   "outputs": [],
   "source": [
    "import os\n",
    "import pandas as pd\n",
    "data_path = rf'C:\\Users\\{os.getlogin()}\\PycharmProjects\\NLP_project\\data\\abstract_2005_2020_gender_and_topic.csv'\n",
    "documents_df = pd.read_csv(data_path, encoding='utf8')"
   ],
   "metadata": {
    "collapsed": false,
    "pycharm": {
     "name": "#%%\n"
    }
   }
  },
  {
   "cell_type": "code",
   "execution_count": 140,
   "outputs": [
    {
     "data": {
      "text/plain": "(21784, 11)"
     },
     "execution_count": 140,
     "metadata": {},
     "output_type": "execute_result"
    }
   ],
   "source": [
    "documents_df.shape"
   ],
   "metadata": {
    "collapsed": false,
    "pycharm": {
     "name": "#%%\n"
    }
   }
  },
  {
   "cell_type": "code",
   "execution_count": 49,
   "outputs": [],
   "source": [
    "from bertopic import BERTopic"
   ],
   "metadata": {
    "collapsed": false,
    "pycharm": {
     "name": "#%%\n"
    }
   }
  },
  {
   "cell_type": "code",
   "execution_count": 136,
   "outputs": [],
   "source": [
    "loaded_model = BERTopic.load(rf\"bertTopic_train(81876)_n_gram_1_1_min_topic_size_50_with_probs\")"
   ],
   "metadata": {
    "collapsed": false,
    "pycharm": {
     "name": "#%%\n"
    }
   }
  },
  {
   "cell_type": "code",
   "execution_count": 52,
   "outputs": [],
   "source": [
    "topics_to_words = loaded_model.get_topics()"
   ],
   "metadata": {
    "collapsed": false,
    "pycharm": {
     "name": "#%%\n"
    }
   }
  },
  {
   "cell_type": "code",
   "execution_count": 56,
   "outputs": [
    {
     "data": {
      "text/plain": "[('eye', 0.029835224631279213),\n ('visual', 0.018446292381377),\n ('retinal', 0.016868776725844477),\n ('macular', 0.016512792631981313),\n ('acuity', 0.01600103332118814),\n ('ranibizumab', 0.012391011628467539),\n ('corneal', 0.010633755851673622),\n ('glaucoma', 0.010284761257552946),\n ('iop', 0.010206322218341125),\n ('ocular', 0.010020834002187607)]"
     },
     "execution_count": 56,
     "metadata": {},
     "output_type": "execute_result"
    }
   ],
   "source": [
    "(topics_to_words[0])"
   ],
   "metadata": {
    "collapsed": false,
    "pycharm": {
     "name": "#%%\n"
    }
   }
  },
  {
   "cell_type": "code",
   "execution_count": 188,
   "outputs": [
    {
     "data": {
      "text/plain": "Batches:   0%|          | 0/681 [00:00<?, ?it/s]",
      "application/vnd.jupyter.widget-view+json": {
       "version_major": 2,
       "version_minor": 0,
       "model_id": "8a8580a9aa084ec7950e42d3647f8c8c"
      }
     },
     "metadata": {},
     "output_type": "display_data"
    }
   ],
   "source": [
    "docs = documents_df.clean_title_and_abstract.to_list()\n",
    "topics, probs = loaded_model.transform(docs)"
   ],
   "metadata": {
    "collapsed": false,
    "pycharm": {
     "name": "#%%\n"
    }
   }
  },
  {
   "cell_type": "code",
   "execution_count": 202,
   "outputs": [],
   "source": [
    "import numpy as np"
   ],
   "metadata": {
    "collapsed": false,
    "pycharm": {
     "name": "#%%\n"
    }
   }
  },
  {
   "cell_type": "code",
   "execution_count": 220,
   "outputs": [
    {
     "data": {
      "text/plain": "array([[0.00000000e+00, 0.00000000e+00, 0.00000000e+00, ...,\n        0.00000000e+00, 0.00000000e+00, 0.00000000e+00],\n       [7.77357440e-04, 1.09090787e-03, 9.96423662e-04, ...,\n        9.82805070e-04, 2.55125450e-03, 1.02191886e-03],\n       [2.35305158e-04, 5.10131109e-04, 2.93485199e-04, ...,\n        4.36185374e-04, 3.86868067e-04, 4.38642682e-04],\n       ...,\n       [8.34211688e-04, 2.56834609e-03, 1.22896723e-03, ...,\n        1.41206377e-03, 1.02565687e-03, 1.87399337e-03],\n       [2.56638844e-12, 2.71134283e-03, 3.47501465e-12, ...,\n        2.59675731e-10, 9.57965270e-12, 2.52828413e-03],\n       [0.00000000e+00, 0.00000000e+00, 0.00000000e+00, ...,\n        0.00000000e+00, 0.00000000e+00, 0.00000000e+00]])"
     },
     "execution_count": 220,
     "metadata": {},
     "output_type": "execute_result"
    }
   ],
   "source": [
    "probs"
   ],
   "metadata": {
    "collapsed": false,
    "pycharm": {
     "name": "#%%\n"
    }
   }
  },
  {
   "cell_type": "code",
   "execution_count": 208,
   "outputs": [],
   "source": [
    "probs2 = probs.copy()"
   ],
   "metadata": {
    "collapsed": false,
    "pycharm": {
     "name": "#%%\n"
    }
   }
  },
  {
   "cell_type": "code",
   "execution_count": 212,
   "outputs": [
    {
     "data": {
      "text/plain": "[194,\n 11,\n 263,\n 196,\n 196,\n 23,\n 97,\n 36,\n 119,\n 76,\n 167,\n 9,\n 24,\n 255,\n 23,\n 35,\n 38,\n 37,\n 30,\n 50,\n 107,\n 68,\n 37,\n 130,\n 122,\n 221,\n 119,\n 195,\n 154,\n 42,\n 71,\n 154,\n 6,\n 240,\n 193,\n 76,\n 76,\n 63,\n 70,\n 30,\n 48,\n 6,\n 222,\n 31,\n 25,\n 65,\n 42,\n 67,\n 177,\n 6,\n 0,\n 23,\n 159,\n 49,\n 146,\n 17,\n 195,\n 105,\n 76,\n 49,\n 207,\n 21,\n 56,\n 42,\n 154,\n 139,\n 37,\n 152,\n 49,\n 98,\n 21,\n 97,\n 0,\n 168,\n 131,\n 50,\n 36,\n 33,\n 31,\n 49,\n 139,\n 122,\n 42,\n 177,\n 245,\n 0,\n 59,\n 50,\n 67,\n 39,\n 21,\n 177,\n 146,\n 4,\n 53,\n 9,\n 109,\n 150,\n 195,\n 3,\n 76,\n 30,\n 187,\n 26,\n 25,\n 184,\n 140,\n 24,\n 97,\n 116,\n 36,\n 36,\n 267,\n 125,\n 9,\n 37,\n 125,\n 35,\n 50,\n 21,\n 107,\n 49,\n 63,\n 3,\n 159,\n 140,\n 154,\n 48,\n 9,\n 150,\n 262,\n 21,\n 35,\n 126,\n 163,\n 149,\n 232,\n 13,\n 36,\n 260,\n 25,\n 10,\n 250,\n 40,\n 43,\n 42,\n 54,\n 30,\n 7,\n 132,\n 56,\n 240,\n 105,\n 0,\n 26,\n 42,\n 207,\n 17,\n 141,\n 23,\n 9,\n 125,\n 9,\n 35,\n 24,\n 24,\n 9,\n 20,\n 25,\n 37,\n 6,\n 0,\n 98,\n 42,\n 34,\n 207,\n 97,\n 9,\n 22,\n 10,\n 71,\n 0,\n 103,\n 48,\n 48,\n 124,\n 68,\n 26,\n 109,\n 208,\n 7,\n 59,\n 9,\n 6,\n 95,\n 0,\n 135,\n 78,\n 41,\n 267,\n 31,\n 126,\n 176,\n 25,\n 261,\n 37,\n 66,\n 1,\n 60,\n 195,\n 65,\n 157,\n 12,\n 6,\n 31,\n 172,\n 43,\n 9,\n 9,\n 177,\n 191,\n 23,\n 23,\n 106,\n 76,\n 160,\n 3,\n 9,\n 9,\n 36,\n 157,\n 114,\n 2,\n 17,\n 21,\n 53,\n 105,\n 23,\n 125,\n 50,\n 31,\n 43,\n 6,\n 0,\n 7,\n 9,\n 17,\n 23,\n 170,\n 72,\n 31,\n 26,\n 42,\n 23,\n 42,\n 12,\n 26,\n 26,\n 35,\n 24,\n 9,\n 6,\n 6,\n 25,\n 1,\n 272,\n 194,\n 23,\n 6,\n 64,\n 58,\n 50,\n 25,\n 78,\n 36,\n 110,\n 154,\n 81,\n 42,\n 182,\n 37,\n 124,\n 84,\n 0,\n 23,\n 23,\n 21,\n 26,\n 45,\n 28,\n 143,\n 224,\n 1,\n 87,\n 25,\n 258,\n 214,\n 156,\n 6,\n 110,\n 80,\n 50,\n 49,\n 57,\n 181,\n 31,\n 240,\n 149,\n 122,\n 22,\n 4,\n 35,\n 6,\n 98,\n 12,\n 107,\n 9,\n 73,\n 4,\n 137,\n 11,\n 31,\n 6,\n 0,\n 55,\n 12,\n 207,\n 26,\n 53,\n 24,\n 185,\n 18,\n 143,\n 143,\n 120,\n 33,\n 146,\n 24,\n 8,\n 6,\n 24,\n 24,\n 150,\n 150,\n 20,\n 0,\n 143,\n 31,\n 9,\n 12,\n 27,\n 27,\n 10,\n 267,\n 17,\n 106,\n 122,\n 0,\n 0,\n 49,\n 256,\n 26,\n 0,\n 43,\n 49,\n 172,\n 234,\n 49,\n 154,\n 96,\n 146,\n 0,\n 55,\n 250,\n 199,\n 21,\n 131,\n 72,\n 24,\n 35,\n 17,\n 207,\n 224,\n 184,\n 85,\n 98,\n 47,\n 229,\n 24,\n 98,\n 98,\n 36,\n 250,\n 17,\n 42,\n 16,\n 27,\n 47,\n 65,\n 76,\n 2,\n 109,\n 42,\n 49,\n 54,\n 43,\n 40,\n 6,\n 45,\n 140,\n 59,\n 35,\n 142,\n 189,\n 250,\n 48,\n 59,\n 85,\n 83,\n 119,\n 93,\n 37,\n 49,\n 49,\n 190,\n 89,\n 131,\n 194,\n 12,\n 192,\n 26,\n 159,\n 42,\n 75,\n 172,\n 2,\n 143,\n 9,\n 2,\n 0,\n 17,\n 240,\n 35,\n 143,\n 17,\n 4,\n 106,\n 3,\n 72,\n 50,\n 22,\n 170,\n 31,\n 0,\n 187,\n 103,\n 103,\n 103,\n 103,\n 103,\n 12,\n 6,\n 6,\n 120,\n 36,\n 178,\n 26,\n 85,\n 40,\n 58,\n 17,\n 28,\n 59,\n 1,\n 98,\n 70,\n 0,\n 0,\n 85,\n 2,\n 126,\n 17,\n 28,\n 169,\n 51,\n 12,\n 32,\n 64,\n 131,\n 191,\n 74,\n 41,\n 28,\n 0,\n 63,\n 6,\n 28,\n 21,\n 21,\n 6,\n 29,\n 29,\n 35,\n 35,\n 4,\n 17,\n 13,\n 39,\n 52,\n 162,\n 160,\n 34,\n 83,\n 98,\n 0,\n 219,\n 23,\n 45,\n 11,\n 137,\n 98,\n 5,\n 143,\n 175,\n 160,\n 70,\n 70,\n 16,\n 49,\n 50,\n 30,\n 1,\n 109,\n 22,\n 119,\n 35,\n 66,\n 160,\n 120,\n 260,\n 53,\n 261,\n 114,\n 178,\n 27,\n 80,\n 175,\n 156,\n 49,\n 58,\n 9,\n 25,\n 36,\n 195,\n 207,\n 119,\n 42,\n 20,\n 63,\n 55,\n 85,\n 154,\n 156,\n 63,\n 18,\n 98,\n 12,\n 23,\n 270,\n 35,\n 28,\n 35,\n 37,\n 103,\n 175,\n 261,\n 9,\n 88,\n 63,\n 9,\n 19,\n 249,\n 150,\n 250,\n 172,\n 56,\n 49,\n 6,\n 115,\n 0,\n 60,\n 266,\n 250,\n 59,\n 49,\n 224,\n 185,\n 156,\n 85,\n 207,\n 98,\n 3,\n 100,\n 78,\n 245,\n 199,\n 0,\n 154,\n 186,\n 14,\n 18,\n 183,\n 1,\n 27,\n 190,\n 17,\n 21,\n 9,\n 13,\n 195,\n 98,\n 154,\n 51,\n 64,\n 45,\n 23,\n 172,\n 150,\n 154,\n 154,\n 8,\n 13,\n 76,\n 200,\n 25,\n 98,\n 49,\n 68,\n 97,\n 32,\n 230,\n 39,\n 68,\n 16,\n 59,\n 0,\n 97,\n 97,\n 122,\n 20,\n 0,\n 0,\n 272,\n 272,\n 143,\n 62,\n 226,\n 131,\n 142,\n 231,\n 47,\n 49,\n 87,\n 125,\n 72,\n 72,\n 51,\n 154,\n 221,\n 0,\n 13,\n 208,\n 270,\n 26,\n 26,\n 113,\n 5,\n 125,\n 69,\n 26,\n 98,\n 225,\n 98,\n 10,\n 82,\n 82,\n 45,\n 56,\n 56,\n 208,\n 160,\n 161,\n 208,\n 51,\n 12,\n 24,\n 0,\n 13,\n 36,\n 42,\n 24,\n 131,\n 250,\n 212,\n 17,\n 1,\n 32,\n 190,\n 31,\n 99,\n 92,\n 28,\n 35,\n 20,\n 272,\n 21,\n 50,\n 42,\n 0,\n 0,\n 220,\n 56,\n 154,\n 110,\n 4,\n 143,\n 13,\n 272,\n 7,\n 186,\n 37,\n 20,\n 96,\n 65,\n 126,\n 257,\n 41,\n 34,\n 63,\n 6,\n 0,\n 2,\n 37,\n 208,\n 56,\n 46,\n 244,\n 134,\n 24,\n 158,\n 150,\n 10,\n 45,\n 195,\n 12,\n 190,\n 35,\n 50,\n 146,\n 28,\n 53,\n 59,\n 85,\n 17,\n 155,\n 207,\n 70,\n 2,\n 23,\n 212,\n 97,\n 185,\n 16,\n 272,\n 93,\n 5,\n 128,\n 134,\n 266,\n 50,\n 12,\n 109,\n 109,\n 8,\n 106,\n 192,\n 156,\n 54,\n 85,\n 97,\n 34,\n 24,\n 57,\n 107,\n 3,\n 6,\n 33,\n 195,\n 5,\n 35,\n 18,\n 44,\n 119,\n 195,\n 25,\n 83,\n 222,\n 177,\n 2,\n 56,\n 36,\n 0,\n 65,\n 23,\n 81,\n 175,\n 167,\n 0,\n 152,\n 86,\n 97,\n 16,\n 119,\n 119,\n 245,\n 18,\n 88,\n 163,\n 5,\n 12,\n 26,\n 58,\n 68,\n 24,\n 23,\n 97,\n 73,\n 85,\n 17,\n 64,\n 247,\n 146,\n 240,\n 191,\n 9,\n 219,\n 49,\n 71,\n 5,\n 105,\n 105,\n 187,\n 107,\n 83,\n 134,\n 23,\n 0,\n 34,\n 12,\n 24,\n 6,\n 24,\n 41,\n 7,\n 10,\n 51,\n 6,\n 133,\n 42,\n 160,\n 135,\n 260,\n 110,\n 21,\n 194,\n 126,\n 242,\n 122,\n 28,\n 0,\n 6,\n 23,\n 59,\n 81,\n 78,\n 20,\n 56,\n 24,\n 7,\n 63,\n 20,\n 26,\n 5,\n 159,\n 40,\n 140,\n 63,\n 63,\n 130,\n 9,\n 82,\n 82,\n 73,\n 62,\n 8,\n 3,\n 22,\n 171,\n 115,\n 268,\n 39,\n 187,\n 263,\n 181,\n 33,\n 10,\n 23,\n 4,\n 188,\n 34,\n 26,\n 267,\n 85,\n 43,\n 0,\n 2,\n 143,\n 48,\n 246,\n 231,\n 56,\n 100,\n 26,\n 6,\n 161,\n 42,\n 50,\n 50,\n 50,\n 34,\n 17,\n 11,\n 125,\n 1,\n 10,\n 114,\n 51,\n 98,\n 45,\n 98,\n 92,\n 76,\n 80,\n 154,\n 196,\n 194,\n 6,\n 59,\n 49,\n 6,\n 5,\n 65,\n 80,\n 152,\n 2,\n 187,\n 98,\n 48,\n 31,\n 17,\n 34,\n 122,\n 113,\n 9,\n 126,\n 59,\n 23,\n 124,\n 6,\n 150,\n 34,\n 108,\n 76,\n 228,\n 133,\n 72,\n 59,\n 23,\n 6,\n 33,\n 2,\n 6,\n 23,\n 214,\n 2,\n 70,\n 17,\n 122,\n 25,\n 45,\n ...]"
     },
     "execution_count": 212,
     "metadata": {},
     "output_type": "execute_result"
    }
   ],
   "source": [
    "main_topic=[np.argmax(item) for item in probs2]\n",
    "main_topic"
   ],
   "metadata": {
    "collapsed": false,
    "pycharm": {
     "name": "#%%\n"
    }
   }
  },
  {
   "cell_type": "code",
   "execution_count": 222,
   "outputs": [
    {
     "name": "stderr",
     "output_type": "stream",
     "text": [
      "IOPub data rate exceeded.\n",
      "The notebook server will temporarily stop sending output\n",
      "to the client in order to avoid crashing it.\n",
      "To change this limit, set the config variable\n",
      "`--NotebookApp.iopub_data_rate_limit`.\n",
      "\n",
      "Current values:\n",
      "NotebookApp.iopub_data_rate_limit=1000000.0 (bytes/sec)\n",
      "NotebookApp.rate_limit_window=3.0 (secs)\n",
      "\n"
     ]
    }
   ],
   "source": [
    "# col_topics = pd.Series(topics)\n",
    "# col_probs = pd.Series(probs)\n",
    "result_series = []\n",
    "for prob in probs:\n",
    "    result_series.append(str(prob.tolist()))\n",
    "print(result_series)"
   ],
   "metadata": {
    "collapsed": false,
    "pycharm": {
     "name": "#%%\n"
    }
   }
  },
  {
   "cell_type": "code",
   "execution_count": 228,
   "outputs": [],
   "source": [
    "col_probs = pd.Series(result_series)"
   ],
   "metadata": {
    "collapsed": false,
    "pycharm": {
     "name": "#%%\n"
    }
   }
  },
  {
   "cell_type": "code",
   "execution_count": 213,
   "outputs": [],
   "source": [
    "documents_df['major_topic'] = main_topic"
   ],
   "metadata": {
    "collapsed": false,
    "pycharm": {
     "name": "#%%\n"
    }
   }
  },
  {
   "cell_type": "code",
   "execution_count": 229,
   "outputs": [],
   "source": [
    "# documents_df['topic']=col_topics\n",
    "documents_df['probs']=col_probs"
   ],
   "metadata": {
    "collapsed": false,
    "pycharm": {
     "name": "#%%\n"
    }
   }
  },
  {
   "cell_type": "code",
   "execution_count": 230,
   "outputs": [],
   "source": [
    "documents_df.to_csv(rf'C:\\Users\\{os.getlogin()}\\PycharmProjects\\NLP_project\\data\\abstract_2005_2020_gender_and_topic.csv',\n",
    "                      index=False)"
   ],
   "metadata": {
    "collapsed": false,
    "pycharm": {
     "name": "#%%\n"
    }
   }
  },
  {
   "cell_type": "code",
   "execution_count": 122,
   "outputs": [],
   "source": [
    "topics_gender = documents_df[['topic','female_rate']]"
   ],
   "metadata": {
    "collapsed": false,
    "pycharm": {
     "name": "#%%\n"
    }
   }
  },
  {
   "cell_type": "code",
   "execution_count": 123,
   "outputs": [
    {
     "data": {
      "text/plain": "1.0"
     },
     "execution_count": 123,
     "metadata": {},
     "output_type": "execute_result"
    }
   ],
   "source": [
    "topics_gender.female_rate.max()"
   ],
   "metadata": {
    "collapsed": false,
    "pycharm": {
     "name": "#%%\n"
    }
   }
  },
  {
   "cell_type": "code",
   "execution_count": 150,
   "outputs": [],
   "source": [
    "df1 = documents_df.groupby('topic')['female_rate'].apply(list).reset_index(name='female_rate')"
   ],
   "metadata": {
    "collapsed": false,
    "pycharm": {
     "name": "#%%\n"
    }
   }
  },
  {
   "cell_type": "code",
   "execution_count": 151,
   "outputs": [
    {
     "data": {
      "text/plain": "     topic                                        female_rate\n0       -1  [0.4432989690721649, 0.0352112676056338, 1.0, ...\n1        0  [0.4309290953545232, 0.5411392405063291, 0.465...\n2        1  [0.5789473684210527, 0.8611111111111112, 0.280...\n3        2  [0.6512448132780083, 0.6498002663115846, 0.0, ...\n4        3  [0.7113924050632912, 1.0, 0.75, 0.711462450592...\n..     ...                                                ...\n269    268  [0.5, 0.5, 0.5, 0.4166666666666667, 0.41666666...\n270    269  [0.4285714285714285, 0.458966565349544, 0.4589...\n271    270  [0.672316384180791, 0.6287425149700598, 0.6287...\n272    271  [0.4469696969696969, 0.4512195121951219, 0.559...\n273    272  [0.549889135254989, 0.549889135254989, 0.54988...\n\n[274 rows x 2 columns]",
      "text/html": "<div>\n<style scoped>\n    .dataframe tbody tr th:only-of-type {\n        vertical-align: middle;\n    }\n\n    .dataframe tbody tr th {\n        vertical-align: top;\n    }\n\n    .dataframe thead th {\n        text-align: right;\n    }\n</style>\n<table border=\"1\" class=\"dataframe\">\n  <thead>\n    <tr style=\"text-align: right;\">\n      <th></th>\n      <th>topic</th>\n      <th>female_rate</th>\n    </tr>\n  </thead>\n  <tbody>\n    <tr>\n      <th>0</th>\n      <td>-1</td>\n      <td>[0.4432989690721649, 0.0352112676056338, 1.0, ...</td>\n    </tr>\n    <tr>\n      <th>1</th>\n      <td>0</td>\n      <td>[0.4309290953545232, 0.5411392405063291, 0.465...</td>\n    </tr>\n    <tr>\n      <th>2</th>\n      <td>1</td>\n      <td>[0.5789473684210527, 0.8611111111111112, 0.280...</td>\n    </tr>\n    <tr>\n      <th>3</th>\n      <td>2</td>\n      <td>[0.6512448132780083, 0.6498002663115846, 0.0, ...</td>\n    </tr>\n    <tr>\n      <th>4</th>\n      <td>3</td>\n      <td>[0.7113924050632912, 1.0, 0.75, 0.711462450592...</td>\n    </tr>\n    <tr>\n      <th>...</th>\n      <td>...</td>\n      <td>...</td>\n    </tr>\n    <tr>\n      <th>269</th>\n      <td>268</td>\n      <td>[0.5, 0.5, 0.5, 0.4166666666666667, 0.41666666...</td>\n    </tr>\n    <tr>\n      <th>270</th>\n      <td>269</td>\n      <td>[0.4285714285714285, 0.458966565349544, 0.4589...</td>\n    </tr>\n    <tr>\n      <th>271</th>\n      <td>270</td>\n      <td>[0.672316384180791, 0.6287425149700598, 0.6287...</td>\n    </tr>\n    <tr>\n      <th>272</th>\n      <td>271</td>\n      <td>[0.4469696969696969, 0.4512195121951219, 0.559...</td>\n    </tr>\n    <tr>\n      <th>273</th>\n      <td>272</td>\n      <td>[0.549889135254989, 0.549889135254989, 0.54988...</td>\n    </tr>\n  </tbody>\n</table>\n<p>274 rows × 2 columns</p>\n</div>"
     },
     "execution_count": 151,
     "metadata": {},
     "output_type": "execute_result"
    }
   ],
   "source": [
    "df1"
   ],
   "metadata": {
    "collapsed": false,
    "pycharm": {
     "name": "#%%\n"
    }
   }
  },
  {
   "cell_type": "code",
   "execution_count": 135,
   "outputs": [
    {
     "data": {
      "text/plain": "[1.0,\n 1.0,\n 1.0,\n 1.0,\n 1.0,\n 1.0,\n 1.0,\n 1.0,\n 1.0,\n 1.0,\n 1.0,\n 1.0,\n 1.0,\n 1.0,\n 1.0,\n 1.0,\n 1.0,\n 1.0,\n 1.0,\n 1.0,\n 1.0,\n 1.0,\n 1.0,\n 1.0,\n 1.0,\n 1.0,\n 1.0]"
     },
     "execution_count": 135,
     "metadata": {},
     "output_type": "execute_result"
    }
   ],
   "source": [
    "df1.iloc[99][\"female_rate\"]"
   ],
   "metadata": {
    "collapsed": false,
    "pycharm": {
     "name": "#%%\n"
    }
   }
  },
  {
   "cell_type": "code",
   "execution_count": 97,
   "outputs": [
    {
     "data": {
      "text/plain": "     Topic  Count                                               Name\n0       -1  24535                                -1_and_the_with_for\n1        0   1544                       0_eye_visual_retinal_macular\n2        1   1033            1_antibiotic_infection_pneumonia_aureus\n3        2    947               2_pain_analgesia_block_postoperative\n4        3    901             3_statin_ldlc_cholesterol_atorvastatin\n..     ...    ...                                                ...\n281    280     51               280_catheter_cannulation_venous_vein\n282    281     51    281_amyloidosis_transthyretin_tafamidis_amyloid\n283    282     51              282_als_amyotrophic_lateral_sclerosis\n284    283     50  283_dapagliflozin_empagliflozin_cardiovascular...\n285    284     50            284_aspirin_stroke_ischemic_clopidogrel\n\n[286 rows x 3 columns]",
      "text/html": "<div>\n<style scoped>\n    .dataframe tbody tr th:only-of-type {\n        vertical-align: middle;\n    }\n\n    .dataframe tbody tr th {\n        vertical-align: top;\n    }\n\n    .dataframe thead th {\n        text-align: right;\n    }\n</style>\n<table border=\"1\" class=\"dataframe\">\n  <thead>\n    <tr style=\"text-align: right;\">\n      <th></th>\n      <th>Topic</th>\n      <th>Count</th>\n      <th>Name</th>\n    </tr>\n  </thead>\n  <tbody>\n    <tr>\n      <th>0</th>\n      <td>-1</td>\n      <td>24535</td>\n      <td>-1_and_the_with_for</td>\n    </tr>\n    <tr>\n      <th>1</th>\n      <td>0</td>\n      <td>1544</td>\n      <td>0_eye_visual_retinal_macular</td>\n    </tr>\n    <tr>\n      <th>2</th>\n      <td>1</td>\n      <td>1033</td>\n      <td>1_antibiotic_infection_pneumonia_aureus</td>\n    </tr>\n    <tr>\n      <th>3</th>\n      <td>2</td>\n      <td>947</td>\n      <td>2_pain_analgesia_block_postoperative</td>\n    </tr>\n    <tr>\n      <th>4</th>\n      <td>3</td>\n      <td>901</td>\n      <td>3_statin_ldlc_cholesterol_atorvastatin</td>\n    </tr>\n    <tr>\n      <th>...</th>\n      <td>...</td>\n      <td>...</td>\n      <td>...</td>\n    </tr>\n    <tr>\n      <th>281</th>\n      <td>280</td>\n      <td>51</td>\n      <td>280_catheter_cannulation_venous_vein</td>\n    </tr>\n    <tr>\n      <th>282</th>\n      <td>281</td>\n      <td>51</td>\n      <td>281_amyloidosis_transthyretin_tafamidis_amyloid</td>\n    </tr>\n    <tr>\n      <th>283</th>\n      <td>282</td>\n      <td>51</td>\n      <td>282_als_amyotrophic_lateral_sclerosis</td>\n    </tr>\n    <tr>\n      <th>284</th>\n      <td>283</td>\n      <td>50</td>\n      <td>283_dapagliflozin_empagliflozin_cardiovascular...</td>\n    </tr>\n    <tr>\n      <th>285</th>\n      <td>284</td>\n      <td>50</td>\n      <td>284_aspirin_stroke_ischemic_clopidogrel</td>\n    </tr>\n  </tbody>\n</table>\n<p>286 rows × 3 columns</p>\n</div>"
     },
     "execution_count": 97,
     "metadata": {},
     "output_type": "execute_result"
    }
   ],
   "source": [
    "info_df = loaded_model.get_topic_info()\n",
    "info_df"
   ],
   "metadata": {
    "collapsed": false,
    "pycharm": {
     "name": "#%%\n"
    }
   }
  },
  {
   "cell_type": "code",
   "execution_count": 219,
   "outputs": [],
   "source": [
    "import seaborn as sns\n",
    "from matplotlib.backends.backend_pdf import PdfPages\n",
    "import matplotlib.pyplot as plt\n",
    "import numpy as np"
   ],
   "metadata": {
    "collapsed": false,
    "pycharm": {
     "name": "#%%\n"
    }
   }
  },
  {
   "cell_type": "code",
   "execution_count": 133,
   "outputs": [
    {
     "data": {
      "text/plain": "<Figure size 432x288 with 0 Axes>"
     },
     "metadata": {},
     "output_type": "display_data"
    }
   ],
   "source": [
    "# pdf = PdfPages(\"output1.pdf\")\n",
    "with PdfPages('topic_female_rate_hists.pdf') as pdf:\n",
    "    for index, row in df1.iterrows():\n",
    "        fig = sns.histplot(data=row, x=\"female_rate\" , kde=True).set_title(f'Topic {info_df.iloc[row[\"topic\"]+1][\"Name\"]}\\n{len(row[\"female_rate\"])} docs')\n",
    "        fig = fig.get_figure()\n",
    "        mean = np.nanmean(np.array(row.female_rate))\n",
    "        plt.axvline(x=mean, linewidth=3, color='b', label=\"mean\", alpha=0.5)\n",
    "        pdf.savefig(fig)\n",
    "        plt.clf()"
   ],
   "metadata": {
    "collapsed": false,
    "pycharm": {
     "name": "#%%\n"
    }
   }
  },
  {
   "cell_type": "code",
   "execution_count": 7,
   "outputs": [
    {
     "ename": "AttributeError",
     "evalue": "'DataFrameGroupBy' object has no attribute 'to_csv'",
     "output_type": "error",
     "traceback": [
      "\u001B[1;31m---------------------------------------------------------------------------\u001B[0m",
      "\u001B[1;31mAttributeError\u001B[0m                            Traceback (most recent call last)",
      "Input \u001B[1;32mIn [7]\u001B[0m, in \u001B[0;36m<cell line: 1>\u001B[1;34m()\u001B[0m\n\u001B[1;32m----> 1\u001B[0m \u001B[43mtopics_gender\u001B[49m\u001B[38;5;241;43m.\u001B[39;49m\u001B[43mto_csv\u001B[49m(\u001B[38;5;124mrf\u001B[39m\u001B[38;5;124m'\u001B[39m\u001B[38;5;124mC:\u001B[39m\u001B[38;5;124m\\\u001B[39m\u001B[38;5;124mUsers\u001B[39m\u001B[38;5;124m\\\u001B[39m\u001B[38;5;132;01m{\u001B[39;00mos\u001B[38;5;241m.\u001B[39mgetlogin()\u001B[38;5;132;01m}\u001B[39;00m\u001B[38;5;124m\\\u001B[39m\u001B[38;5;124mPycharmProjects\u001B[39m\u001B[38;5;124m\\\u001B[39m\u001B[38;5;124mNLP_project\u001B[39m\u001B[38;5;124m\\\u001B[39m\u001B[38;5;124mdata\u001B[39m\u001B[38;5;124m\\\u001B[39m\u001B[38;5;124mgender_and_topic.csv\u001B[39m\u001B[38;5;124m'\u001B[39m,\n\u001B[0;32m      2\u001B[0m                       index\u001B[38;5;241m=\u001B[39m\u001B[38;5;28;01mFalse\u001B[39;00m)\n",
      "File \u001B[1;32mc:\\users\\morfi\\appdata\\local\\programs\\python\\python39\\lib\\site-packages\\pandas\\core\\groupby\\groupby.py:904\u001B[0m, in \u001B[0;36mGroupBy.__getattr__\u001B[1;34m(self, attr)\u001B[0m\n\u001B[0;32m    901\u001B[0m \u001B[38;5;28;01mif\u001B[39;00m attr \u001B[38;5;129;01min\u001B[39;00m \u001B[38;5;28mself\u001B[39m\u001B[38;5;241m.\u001B[39mobj:\n\u001B[0;32m    902\u001B[0m     \u001B[38;5;28;01mreturn\u001B[39;00m \u001B[38;5;28mself\u001B[39m[attr]\n\u001B[1;32m--> 904\u001B[0m \u001B[38;5;28;01mraise\u001B[39;00m \u001B[38;5;167;01mAttributeError\u001B[39;00m(\n\u001B[0;32m    905\u001B[0m     \u001B[38;5;124mf\u001B[39m\u001B[38;5;124m\"\u001B[39m\u001B[38;5;124m'\u001B[39m\u001B[38;5;132;01m{\u001B[39;00m\u001B[38;5;28mtype\u001B[39m(\u001B[38;5;28mself\u001B[39m)\u001B[38;5;241m.\u001B[39m\u001B[38;5;18m__name__\u001B[39m\u001B[38;5;132;01m}\u001B[39;00m\u001B[38;5;124m'\u001B[39m\u001B[38;5;124m object has no attribute \u001B[39m\u001B[38;5;124m'\u001B[39m\u001B[38;5;132;01m{\u001B[39;00mattr\u001B[38;5;132;01m}\u001B[39;00m\u001B[38;5;124m'\u001B[39m\u001B[38;5;124m\"\u001B[39m\n\u001B[0;32m    906\u001B[0m )\n",
      "\u001B[1;31mAttributeError\u001B[0m: 'DataFrameGroupBy' object has no attribute 'to_csv'"
     ]
    }
   ],
   "source": [
    "topics_gender.to_csv(rf'C:\\Users\\{os.getlogin()}\\PycharmProjects\\NLP_project\\data\\gender_and_topic.csv',\n",
    "                      index=False)"
   ],
   "metadata": {
    "collapsed": false,
    "pycharm": {
     "name": "#%%\n"
    }
   }
  },
  {
   "cell_type": "code",
   "execution_count": 86,
   "outputs": [],
   "source": [
    "info_df = loaded_model.get_topic_info()"
   ],
   "metadata": {
    "collapsed": false,
    "pycharm": {
     "name": "#%%\n"
    }
   }
  },
  {
   "cell_type": "code",
   "execution_count": 88,
   "outputs": [
    {
     "data": {
      "text/plain": "     topic                                               list  \\\n0       -1  [0.4426229508196721, 0.4432989690721649, 0.035...   \n1        0  [0.4309290953545232, 0.5411392405063291, 0.465...   \n2        1  [0.4251207729468599, 0.2971428571428571, 0.919...   \n3        2  [0.8633333333333333, 1.0, 0.6973684210526315, ...   \n4        3  [1.0, 1.0, 0.3720930232558139, 0.4983606557377...   \n..     ...                                                ...   \n280    280  [0.2607449856733524, 0.216, 0.3772727272727272...   \n281    281  [0.5529411764705883, 0.3809523809523809, 0.330...   \n282    282  [0.4583333333333333, 0.3957115009746588, 0.47,...   \n283    283  [0.2854700854700854, 0.2854700854700854, 0.318...   \n284    284  [0.3595317725752508, 1.0, 0.4179242785279322, ...   \n\n                                            Topic_Name  \n0                                  -1_and_the_with_for  \n1                         0_eye_visual_retinal_macular  \n2              1_antibiotic_infection_pneumonia_aureus  \n3                 2_pain_analgesia_block_postoperative  \n4               3_statin_ldlc_cholesterol_atorvastatin  \n..                                                 ...  \n280       279_antidepressant_gene_genetic_polymorphism  \n281               280_catheter_cannulation_venous_vein  \n282    281_amyloidosis_transthyretin_tafamidis_amyloid  \n283              282_als_amyotrophic_lateral_sclerosis  \n284  283_dapagliflozin_empagliflozin_cardiovascular...  \n\n[285 rows x 3 columns]",
      "text/html": "<div>\n<style scoped>\n    .dataframe tbody tr th:only-of-type {\n        vertical-align: middle;\n    }\n\n    .dataframe tbody tr th {\n        vertical-align: top;\n    }\n\n    .dataframe thead th {\n        text-align: right;\n    }\n</style>\n<table border=\"1\" class=\"dataframe\">\n  <thead>\n    <tr style=\"text-align: right;\">\n      <th></th>\n      <th>topic</th>\n      <th>list</th>\n      <th>Topic_Name</th>\n    </tr>\n  </thead>\n  <tbody>\n    <tr>\n      <th>0</th>\n      <td>-1</td>\n      <td>[0.4426229508196721, 0.4432989690721649, 0.035...</td>\n      <td>-1_and_the_with_for</td>\n    </tr>\n    <tr>\n      <th>1</th>\n      <td>0</td>\n      <td>[0.4309290953545232, 0.5411392405063291, 0.465...</td>\n      <td>0_eye_visual_retinal_macular</td>\n    </tr>\n    <tr>\n      <th>2</th>\n      <td>1</td>\n      <td>[0.4251207729468599, 0.2971428571428571, 0.919...</td>\n      <td>1_antibiotic_infection_pneumonia_aureus</td>\n    </tr>\n    <tr>\n      <th>3</th>\n      <td>2</td>\n      <td>[0.8633333333333333, 1.0, 0.6973684210526315, ...</td>\n      <td>2_pain_analgesia_block_postoperative</td>\n    </tr>\n    <tr>\n      <th>4</th>\n      <td>3</td>\n      <td>[1.0, 1.0, 0.3720930232558139, 0.4983606557377...</td>\n      <td>3_statin_ldlc_cholesterol_atorvastatin</td>\n    </tr>\n    <tr>\n      <th>...</th>\n      <td>...</td>\n      <td>...</td>\n      <td>...</td>\n    </tr>\n    <tr>\n      <th>280</th>\n      <td>280</td>\n      <td>[0.2607449856733524, 0.216, 0.3772727272727272...</td>\n      <td>279_antidepressant_gene_genetic_polymorphism</td>\n    </tr>\n    <tr>\n      <th>281</th>\n      <td>281</td>\n      <td>[0.5529411764705883, 0.3809523809523809, 0.330...</td>\n      <td>280_catheter_cannulation_venous_vein</td>\n    </tr>\n    <tr>\n      <th>282</th>\n      <td>282</td>\n      <td>[0.4583333333333333, 0.3957115009746588, 0.47,...</td>\n      <td>281_amyloidosis_transthyretin_tafamidis_amyloid</td>\n    </tr>\n    <tr>\n      <th>283</th>\n      <td>283</td>\n      <td>[0.2854700854700854, 0.2854700854700854, 0.318...</td>\n      <td>282_als_amyotrophic_lateral_sclerosis</td>\n    </tr>\n    <tr>\n      <th>284</th>\n      <td>284</td>\n      <td>[0.3595317725752508, 1.0, 0.4179242785279322, ...</td>\n      <td>283_dapagliflozin_empagliflozin_cardiovascular...</td>\n    </tr>\n  </tbody>\n</table>\n<p>285 rows × 3 columns</p>\n</div>"
     },
     "execution_count": 88,
     "metadata": {},
     "output_type": "execute_result"
    }
   ],
   "source": [
    "df1['Topic_Name'] = info_df['Name']\n",
    "df1"
   ],
   "metadata": {
    "collapsed": false,
    "pycharm": {
     "name": "#%%\n"
    }
   }
  },
  {
   "cell_type": "code",
   "execution_count": 70,
   "outputs": [
    {
     "data": {
      "text/plain": "Text(0.5, 1.0, 'Topic 0\\n 468 docs')"
     },
     "execution_count": 70,
     "metadata": {},
     "output_type": "execute_result"
    },
    {
     "data": {
      "text/plain": "<Figure size 432x288 with 1 Axes>",
      "image/png": "[encoded data removed]"
     },
     "metadata": {
      "needs_background": "light"
     },
     "output_type": "display_data"
    }
   ],
   "source": [
    "fig2 = sns.histplot(df1.iloc[1]['list'], kde=True).set_title(f'Topic 0\\n {len(df1.iloc[1][\"list\"])} docs')\n",
    "fig2"
   ],
   "metadata": {
    "collapsed": false,
    "pycharm": {
     "name": "#%%\n"
    }
   }
  },
  {
   "cell_type": "code",
   "execution_count": 7,
   "outputs": [],
   "source": [
    "documents_df = documents_df[~documents_df['female'].isnull()]\n",
    "documents_df = documents_df[~documents_df['male'].isnull()]\n",
    "documents_df['female_rate'] = documents_df['female'] / (documents_df['female']+documents_df['male'])\n",
    "documents_df.to_csv(rf'C:\\Users\\{os.getlogin()}\\PycharmProjects\\NLP_project\\Data\\abstract_2005_2020_gender.csv',index=False)"
   ],
   "metadata": {
    "collapsed": false,
    "pycharm": {
     "name": "#%%\n"
    }
   }
  }
 ],
 "metadata": {
  "kernelspec": {
   "display_name": "Python 3",
   "language": "python",
   "name": "python3"
  },
  "language_info": {
   "codemirror_mode": {
    "name": "ipython",
    "version": 2
   },
   "file_extension": ".py",
   "mimetype": "text/x-python",
   "name": "python",
   "nbconvert_exporter": "python",
   "pygments_lexer": "ipython2",
   "version": "2.7.6"
  }
 },
 "nbformat": 4,
 "nbformat_minor": 0
}